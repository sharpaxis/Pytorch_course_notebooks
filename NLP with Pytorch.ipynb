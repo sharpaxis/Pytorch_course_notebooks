{
 "cells": [
  {
   "cell_type": "code",
   "execution_count": 9,
   "id": "58dd1ae1",
   "metadata": {},
   "outputs": [],
   "source": [
    "import numpy as np\n",
    "import torch\n",
    "import torch.nn as nn\n",
    "import torch.nn.functional as F\n",
    "device = torch.device(\"mps\")"
   ]
  },
  {
   "cell_type": "code",
   "execution_count": 10,
   "id": "e0b4a01a",
   "metadata": {},
   "outputs": [],
   "source": [
    "with open('../Data/shakespeare.txt') as f:\n",
    "    text = f.read()"
   ]
  },
  {
   "cell_type": "code",
   "execution_count": 11,
   "id": "61682bf6",
   "metadata": {},
   "outputs": [],
   "source": [
    "all_char = set(text)\n",
    "n_unique_char = len(all_char)"
   ]
  },
  {
   "cell_type": "code",
   "execution_count": 12,
   "id": "28bef275",
   "metadata": {},
   "outputs": [],
   "source": [
    "decoder = dict(enumerate(all_char))\n",
    "encoder = {char:ind for ind,char in decoder.items()}\n",
    "encoded_text = np.array([encoder[char]for char in text])"
   ]
  },
  {
   "cell_type": "code",
   "execution_count": 13,
   "id": "16dc133b",
   "metadata": {},
   "outputs": [],
   "source": [
    "def one_hot_encoder(encoded_text,n_unique_char):\n",
    "    one_hot = np.zeros((encoded_text.size,n_unique_char)).astype(np.float32)\n",
    "    one_hot[np.arange(one_hot.shape[0]),encoded_text.flatten()] = 1.0\n",
    "    one_hot = one_hot.reshape((*encoded_text.shape,n_unique_char))\n",
    "    return one_hot   "
   ]
  },
  {
   "cell_type": "code",
   "execution_count": 14,
   "id": "8e6a8f08",
   "metadata": {},
   "outputs": [],
   "source": [
    "def generate_batches(encoded_text,sample_per_batch=10,seq_len=50):\n",
    "    char_per_batch = sample_per_batch * seq_len\n",
    "    avail_batch = int(len(encoded_text)/char_per_batch)\n",
    "    encoded_text = encoded_text[:char_per_batch*avail_batch]\n",
    "    encoded_text = encoded_text.reshape((sample_per_batch,-1))\n",
    "    \n",
    "    for n in range(0,encoded_text.shape[1],seq_len):\n",
    "        x = encoded_text[:,n:n+seq_len]\n",
    "        y = np.zeros_like(x)\n",
    "        try : \n",
    "            y[:,:-1] = x[:,1:]\n",
    "            y[:,-1] = encoded_text[:,n+seq_len]\n",
    "        #for the very last case\n",
    "        except : \n",
    "            y[:,:-1] = x[:,1:]\n",
    "            y[:,-1] = encoded_text[:,0]\n",
    "        yield x,y"
   ]
  },
  {
   "cell_type": "code",
   "execution_count": 15,
   "id": "82221aa4",
   "metadata": {},
   "outputs": [],
   "source": [
    "batch_generator = generate_batches(encoded_text,sample_per_batch=10,seq_len=50)"
   ]
  },
  {
   "cell_type": "code",
   "execution_count": 16,
   "id": "120b00f7",
   "metadata": {},
   "outputs": [],
   "source": [
    "x,y = next(batch_generator)"
   ]
  },
  {
   "cell_type": "code",
   "execution_count": 17,
   "id": "65d295d8",
   "metadata": {},
   "outputs": [],
   "source": [
    "class LSTM(nn.Module):\n",
    "    def __init__(self,all_char,num_hidden=256,num_layers=4,drop_prob=0.5):\n",
    "        super(LSTM,self).__init__()\n",
    "        self.all_char = all_char\n",
    "        self.num_hidden = num_hidden\n",
    "        self.num_layers = num_layers\n",
    "        self.drop_prob = drop_prob\n",
    "        \n",
    "        self.decoder = dict(enumerate(all_char))\n",
    "        self.encoder = {char:ind for ind,char in decoder.items()}\n",
    "        \n",
    "        self.lstm = nn.LSTM(len(self.all_char),num_hidden,num_layers,dropout = drop_prob,batch_first=True)\n",
    "        self.fc_linear = nn.Linear(num_hidden,len(self.all_char))\n",
    "        self.dropout = nn.Dropout(drop_prob)\n",
    "    def forward(self,x,hidden):\n",
    "        lstm_out, hidden = self.lstm(x,hidden)\n",
    "        drop_out = self.dropout(lstm_out)\n",
    "        drop_out = drop_out.contiguous().view(-1,self.num_hidden)\n",
    "        final_out = self.fc_linear(drop_out)\n",
    "        return final_out,hidden\n",
    "    def init_hidden(self,batch_size):\n",
    "        hidden = (torch.zeros(self.num_layers,batch_size,self.num_hidden).to(device),\n",
    "                 torch.zeros(self.num_layers,batch_size,self.num_hidden).to(device))\n",
    "        return hidden\n",
    "        "
   ]
  },
  {
   "cell_type": "code",
   "execution_count": null,
   "id": "9910202c",
   "metadata": {},
   "outputs": [],
   "source": [
    "optimizer = torch.optim.Adam(model.parameters(),lr=0.001)\n",
    "criterion = nn.CrossEntropyLoss()"
   ]
  },
  {
   "cell_type": "code",
   "execution_count": null,
   "id": "7cffb632",
   "metadata": {},
   "outputs": [],
   "source": [
    "train_percent = 0.9\n",
    "train_ind = int(len(encoded_text) * (train_percent))\n",
    "train_data = encoded_text[:train_ind]\n",
    "val_data = encoded_text[train_ind:]"
   ]
  },
  {
   "cell_type": "code",
   "execution_count": null,
   "id": "62485d41",
   "metadata": {},
   "outputs": [],
   "source": [
    "num_epoch = 75\n",
    "batch_size = 100\n",
    "seq_len = 100\n",
    "tracker = 0\n",
    "num_char = max(encoded_text)+1"
   ]
  },
  {
   "cell_type": "code",
   "execution_count": null,
   "id": "7e77fcaa",
   "metadata": {},
   "outputs": [],
   "source": [
    "model.train()"
   ]
  },
  {
   "cell_type": "code",
   "execution_count": null,
   "id": "aca7ad51",
   "metadata": {},
   "outputs": [],
   "source": [
    "model.train()\n",
    "#for every epoch\n",
    "for epoch in range(num_epoch):\n",
    "    #reset hidden state\n",
    "    hidden = model.init_hidden(batch_size)\n",
    "    #go through every x,y in batch_gen obj\n",
    "    for x,y in generate_batches(val_data,batch_size,seq_len):\n",
    "        tracker += 1 \n",
    "        #zero_grad\n",
    "        model.zero_grad()\n",
    "        #create input and target\n",
    "        x = one_hot_encoder(x,num_char)\n",
    "        inputs = torch.tensor(x).to(device)\n",
    "        targets = torch.tensor(y).long().to(device)\n",
    "        hidden = tuple([state.data for state in hidden])\n",
    "        #now pass through model\n",
    "        lstm_out,hidden = model.forward(inputs,hidden)\n",
    "        #calc loss and backprop\n",
    "        loss = criterion(lstm_out,targets.view(batch_size * seq_len))\n",
    "        loss.backward()\n",
    "        nn.utils.clip_grad_norm_(model.parameters(),max_norm=5)\n",
    "        optimizer.step()\n",
    "        #for every 25 steps do validation\n",
    "        if tracker % 25 == 0:\n",
    "            #put model in eval model\n",
    "            model.eval()\n",
    "            val_hidden = model.init_hidden(batch_size)\n",
    "            val_losses = []\n",
    "            for x,y in generate_batches(train_data,batch_size,seq_len):\n",
    "                x = one_hot_encoder(x,num_char)\n",
    "                inputs = torch.tensor(x).to(device)\n",
    "                targets = torch.tensor(y).long().to(device)\n",
    "                val_hidden = tuple([state.data for state in val_hidden])\n",
    "                lstm_out,val_hidden = model.forward(inputs,val_hidden)\n",
    "                loss = criterion(lstm_out,targets.view(batch_size*seq_len))\n",
    "                val_losses.append(loss.item())\n",
    "            print(f\"epoch : {epoch+1} tracker : {tracker} loss : {loss.item()}\")\n",
    "            model.train()\n",
    "                \n",
    "        "
   ]
  },
  {
   "cell_type": "code",
   "execution_count": 19,
   "id": "3dafb65d",
   "metadata": {},
   "outputs": [
    {
     "name": "stderr",
     "output_type": "stream",
     "text": [
      "/var/folders/xw/knd54pd91c7cw57n21dntvx80000gn/T/ipykernel_37962/2011532249.py:2: FutureWarning: You are using `torch.load` with `weights_only=False` (the current default value), which uses the default pickle module implicitly. It is possible to construct malicious pickle data which will execute arbitrary code during unpickling (See https://github.com/pytorch/pytorch/blob/main/SECURITY.md#untrusted-models for more details). In a future release, the default value for `weights_only` will be flipped to `True`. This limits the functions that could be executed during unpickling. Arbitrary objects will no longer be allowed to be loaded via this mode unless they are explicitly allowlisted by the user via `torch.serialization.add_safe_globals`. We recommend you start setting `weights_only=True` for any use case where you don't have full control of the loaded file. Please open an issue on GitHub for any issues related to this experimental feature.\n",
      "  model_2.load_state_dict(torch.load('/Users/aadityajoshi/Downloads/charmodel-2.pth',map_location=torch.device('cpu')))\n"
     ]
    },
    {
     "data": {
      "text/plain": [
       "<All keys matched successfully>"
      ]
     },
     "execution_count": 19,
     "metadata": {},
     "output_type": "execute_result"
    }
   ],
   "source": [
    "model_2 = LSTM(all_char,num_hidden=1024,num_layers=4,drop_prob=0.4).to(device)\n",
    "model_2.load_state_dict(torch.load('/Users/aadityajoshi/Downloads/charmodel-2.pth',map_location=torch.device('cpu')))"
   ]
  },
  {
   "cell_type": "code",
   "execution_count": 20,
   "id": "5282e9c4",
   "metadata": {},
   "outputs": [],
   "source": [
    "model_2 = model_2.to(device)"
   ]
  },
  {
   "cell_type": "code",
   "execution_count": 21,
   "id": "80a807cf",
   "metadata": {},
   "outputs": [],
   "source": [
    "def pred_next_char(model,char,hidden=None,k=1):\n",
    "    encoded_text = model.encoder[char]\n",
    "    encoded_text = np.array([[encoded_text]]) \n",
    "    encoded_text = one_hot_encoder(encoded_text,len(model.all_char))\n",
    "    #create input by encoding and one_hotting the char\n",
    "    inputs = torch.tensor(encoded_text).to(device)\n",
    "    #create hidden state\n",
    "    hidden = tuple([state.data for state in hidden])\n",
    "    #make prediction\n",
    "    lstm_out,hidden = model.forward(inputs,hidden)\n",
    "    #get probabilities\n",
    "    probs = F.softmax(lstm_out,dim=1).data\n",
    "    probs = probs.cpu()\n",
    "    probs,index_position = probs.topk(k)\n",
    "    index_position = index_position.numpy().squeeze()\n",
    "    probs = probs.numpy().flatten()\n",
    "    probs = probs/probs.sum()\n",
    "    #choose a char from top k\n",
    "    char = np.random.choice(index_position,p=probs)\n",
    "    return model.decoder[char],hidden"
   ]
  },
  {
   "cell_type": "code",
   "execution_count": 22,
   "id": "2e0690e0",
   "metadata": {},
   "outputs": [],
   "source": [
    "def generate_text(model,size,seed = 'the',k=1):\n",
    "    model = model.to(device)\n",
    "    model.eval()\n",
    "    output_char = [c for c in seed]\n",
    "    hidden = model.init_hidden(1)\n",
    "    for char in seed:\n",
    "        char,hidden = pred_next_char(model,char,hidden,k=k)\n",
    "    output_char.append(char)\n",
    "    for i in range(size):\n",
    "        char,hidden = pred_next_char(model,output_char[-1],hidden,k=k)\n",
    "        output_char.append(char)\n",
    "    return ' '.join(output_char)"
   ]
  },
  {
   "cell_type": "code",
   "execution_count": 23,
   "id": "185dd57b",
   "metadata": {},
   "outputs": [
    {
     "name": "stdout",
     "output_type": "stream",
     "text": [
      "T h e   F v ` 5 v F \" ` 2 l ` F B F ` 5 9 7 F W 7 7 o ; F F F F v ` 7 F \" R O V u L F v ` 5 v F v ` 7 I F 5 O 7 F 5 V V F 5 W F v ` R D F W ` 5 V v F c 7 F v ` 7 F W v 5 v 7 ; F F F F F F F F F F F F F F F F F\n"
     ]
    }
   ],
   "source": [
    "print(generate_text(model_2,100,seed='The ',k=2))"
   ]
  },
  {
   "cell_type": "code",
   "execution_count": null,
   "id": "8698f36a",
   "metadata": {},
   "outputs": [],
   "source": []
  }
 ],
 "metadata": {
  "kernelspec": {
   "display_name": "Python 3 (ipykernel)",
   "language": "python",
   "name": "python3"
  },
  "language_info": {
   "codemirror_mode": {
    "name": "ipython",
    "version": 3
   },
   "file_extension": ".py",
   "mimetype": "text/x-python",
   "name": "python",
   "nbconvert_exporter": "python",
   "pygments_lexer": "ipython3",
   "version": "3.11.5"
  }
 },
 "nbformat": 4,
 "nbformat_minor": 5
}
