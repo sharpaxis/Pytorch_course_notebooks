{
 "cells": [
  {
   "cell_type": "code",
   "execution_count": 1,
   "id": "ac9bbfb7",
   "metadata": {},
   "outputs": [],
   "source": [
    "#basic imports\n",
    "import numpy as np\n",
    "import pandas as pd\n",
    "import seaborn as sns\n",
    "import matplotlib.pyplot as plt\n",
    "import torch\n",
    "import torch.nn as nn\n",
    "import torch.nn.functional as F\n",
    "import warnings\n",
    "warnings.filterwarnings('ignore')"
   ]
  },
  {
   "cell_type": "code",
   "execution_count": 2,
   "id": "0fe49a19",
   "metadata": {},
   "outputs": [],
   "source": [
    "df = pd.read_csv('../Data/NYCTaxiFares.csv')"
   ]
  },
  {
   "cell_type": "code",
   "execution_count": 3,
   "id": "654cb06f",
   "metadata": {},
   "outputs": [
    {
     "data": {
      "text/html": [
       "<div>\n",
       "<style scoped>\n",
       "    .dataframe tbody tr th:only-of-type {\n",
       "        vertical-align: middle;\n",
       "    }\n",
       "\n",
       "    .dataframe tbody tr th {\n",
       "        vertical-align: top;\n",
       "    }\n",
       "\n",
       "    .dataframe thead th {\n",
       "        text-align: right;\n",
       "    }\n",
       "</style>\n",
       "<table border=\"1\" class=\"dataframe\">\n",
       "  <thead>\n",
       "    <tr style=\"text-align: right;\">\n",
       "      <th></th>\n",
       "      <th>pickup_datetime</th>\n",
       "      <th>fare_amount</th>\n",
       "      <th>fare_class</th>\n",
       "      <th>pickup_longitude</th>\n",
       "      <th>pickup_latitude</th>\n",
       "      <th>dropoff_longitude</th>\n",
       "      <th>dropoff_latitude</th>\n",
       "      <th>passenger_count</th>\n",
       "    </tr>\n",
       "  </thead>\n",
       "  <tbody>\n",
       "    <tr>\n",
       "      <th>0</th>\n",
       "      <td>2010-04-19 08:17:56 UTC</td>\n",
       "      <td>6.5</td>\n",
       "      <td>0</td>\n",
       "      <td>-73.992365</td>\n",
       "      <td>40.730521</td>\n",
       "      <td>-73.975499</td>\n",
       "      <td>40.744746</td>\n",
       "      <td>1</td>\n",
       "    </tr>\n",
       "    <tr>\n",
       "      <th>1</th>\n",
       "      <td>2010-04-17 15:43:53 UTC</td>\n",
       "      <td>6.9</td>\n",
       "      <td>0</td>\n",
       "      <td>-73.990078</td>\n",
       "      <td>40.740558</td>\n",
       "      <td>-73.974232</td>\n",
       "      <td>40.744114</td>\n",
       "      <td>1</td>\n",
       "    </tr>\n",
       "    <tr>\n",
       "      <th>2</th>\n",
       "      <td>2010-04-17 11:23:26 UTC</td>\n",
       "      <td>10.1</td>\n",
       "      <td>1</td>\n",
       "      <td>-73.994149</td>\n",
       "      <td>40.751118</td>\n",
       "      <td>-73.960064</td>\n",
       "      <td>40.766235</td>\n",
       "      <td>2</td>\n",
       "    </tr>\n",
       "    <tr>\n",
       "      <th>3</th>\n",
       "      <td>2010-04-11 21:25:03 UTC</td>\n",
       "      <td>8.9</td>\n",
       "      <td>0</td>\n",
       "      <td>-73.990485</td>\n",
       "      <td>40.756422</td>\n",
       "      <td>-73.971205</td>\n",
       "      <td>40.748192</td>\n",
       "      <td>1</td>\n",
       "    </tr>\n",
       "    <tr>\n",
       "      <th>4</th>\n",
       "      <td>2010-04-17 02:19:01 UTC</td>\n",
       "      <td>19.7</td>\n",
       "      <td>1</td>\n",
       "      <td>-73.990976</td>\n",
       "      <td>40.734202</td>\n",
       "      <td>-73.905956</td>\n",
       "      <td>40.743115</td>\n",
       "      <td>1</td>\n",
       "    </tr>\n",
       "  </tbody>\n",
       "</table>\n",
       "</div>"
      ],
      "text/plain": [
       "           pickup_datetime  fare_amount  fare_class  pickup_longitude  \\\n",
       "0  2010-04-19 08:17:56 UTC          6.5           0        -73.992365   \n",
       "1  2010-04-17 15:43:53 UTC          6.9           0        -73.990078   \n",
       "2  2010-04-17 11:23:26 UTC         10.1           1        -73.994149   \n",
       "3  2010-04-11 21:25:03 UTC          8.9           0        -73.990485   \n",
       "4  2010-04-17 02:19:01 UTC         19.7           1        -73.990976   \n",
       "\n",
       "   pickup_latitude  dropoff_longitude  dropoff_latitude  passenger_count  \n",
       "0        40.730521         -73.975499         40.744746                1  \n",
       "1        40.740558         -73.974232         40.744114                1  \n",
       "2        40.751118         -73.960064         40.766235                2  \n",
       "3        40.756422         -73.971205         40.748192                1  \n",
       "4        40.734202         -73.905956         40.743115                1  "
      ]
     },
     "execution_count": 3,
     "metadata": {},
     "output_type": "execute_result"
    }
   ],
   "source": [
    "df.head()"
   ]
  },
  {
   "cell_type": "code",
   "execution_count": 4,
   "id": "0c82a6ca",
   "metadata": {},
   "outputs": [
    {
     "data": {
      "text/plain": [
       "<Axes: xlabel='fare_class', ylabel='count'>"
      ]
     },
     "execution_count": 4,
     "metadata": {},
     "output_type": "execute_result"
    },
    {
     "data": {
      "image/png": "[encoded data removed]",
      "text/plain": [
       "<Figure size 400x500 with 1 Axes>"
      ]
     },
     "metadata": {},
     "output_type": "display_data"
    }
   ],
   "source": [
    "#target - fare class\n",
    "sns.set_style('white')\n",
    "plt.figure(figsize=(4,5))\n",
    "sns.countplot(x = 'fare_class' ,data=df,palette='viridis')"
   ]
  },
  {
   "cell_type": "code",
   "execution_count": 5,
   "id": "87532089",
   "metadata": {},
   "outputs": [],
   "source": [
    "#distance\n",
    "def haversine_distance(df, lat1, long1, lat2, long2):\n",
    "    r = 6371\n",
    "       \n",
    "    phi1 = np.radians(df[lat1])\n",
    "    phi2 = np.radians(df[lat2])\n",
    "    \n",
    "    delta_phi = np.radians(df[lat2]-df[lat1])\n",
    "    delta_lambda = np.radians(df[long2]-df[long1])\n",
    "     \n",
    "    a = np.sin(delta_phi/2)**2 + np.cos(phi1) * np.cos(phi2) * np.sin(delta_lambda/2)**2\n",
    "    c = 2 * np.arctan2(np.sqrt(a), np.sqrt(1-a))\n",
    "    d = (r * c)\n",
    "\n",
    "    return d"
   ]
  },
  {
   "cell_type": "code",
   "execution_count": 6,
   "id": "8d574b3d",
   "metadata": {},
   "outputs": [],
   "source": [
    "df['distance'] = haversine_distance(df,'pickup_latitude','pickup_longitude','dropoff_latitude','dropoff_longitude')"
   ]
  },
  {
   "cell_type": "code",
   "execution_count": 7,
   "id": "088fc101",
   "metadata": {},
   "outputs": [
    {
     "data": {
      "text/html": [
       "<div>\n",
       "<style scoped>\n",
       "    .dataframe tbody tr th:only-of-type {\n",
       "        vertical-align: middle;\n",
       "    }\n",
       "\n",
       "    .dataframe tbody tr th {\n",
       "        vertical-align: top;\n",
       "    }\n",
       "\n",
       "    .dataframe thead th {\n",
       "        text-align: right;\n",
       "    }\n",
       "</style>\n",
       "<table border=\"1\" class=\"dataframe\">\n",
       "  <thead>\n",
       "    <tr style=\"text-align: right;\">\n",
       "      <th></th>\n",
       "      <th>pickup_datetime</th>\n",
       "      <th>fare_amount</th>\n",
       "      <th>fare_class</th>\n",
       "      <th>pickup_longitude</th>\n",
       "      <th>pickup_latitude</th>\n",
       "      <th>dropoff_longitude</th>\n",
       "      <th>dropoff_latitude</th>\n",
       "      <th>passenger_count</th>\n",
       "      <th>distance</th>\n",
       "    </tr>\n",
       "  </thead>\n",
       "  <tbody>\n",
       "    <tr>\n",
       "      <th>0</th>\n",
       "      <td>2010-04-19 08:17:56 UTC</td>\n",
       "      <td>6.5</td>\n",
       "      <td>0</td>\n",
       "      <td>-73.992365</td>\n",
       "      <td>40.730521</td>\n",
       "      <td>-73.975499</td>\n",
       "      <td>40.744746</td>\n",
       "      <td>1</td>\n",
       "      <td>2.126312</td>\n",
       "    </tr>\n",
       "    <tr>\n",
       "      <th>1</th>\n",
       "      <td>2010-04-17 15:43:53 UTC</td>\n",
       "      <td>6.9</td>\n",
       "      <td>0</td>\n",
       "      <td>-73.990078</td>\n",
       "      <td>40.740558</td>\n",
       "      <td>-73.974232</td>\n",
       "      <td>40.744114</td>\n",
       "      <td>1</td>\n",
       "      <td>1.392307</td>\n",
       "    </tr>\n",
       "    <tr>\n",
       "      <th>2</th>\n",
       "      <td>2010-04-17 11:23:26 UTC</td>\n",
       "      <td>10.1</td>\n",
       "      <td>1</td>\n",
       "      <td>-73.994149</td>\n",
       "      <td>40.751118</td>\n",
       "      <td>-73.960064</td>\n",
       "      <td>40.766235</td>\n",
       "      <td>2</td>\n",
       "      <td>3.326763</td>\n",
       "    </tr>\n",
       "    <tr>\n",
       "      <th>3</th>\n",
       "      <td>2010-04-11 21:25:03 UTC</td>\n",
       "      <td>8.9</td>\n",
       "      <td>0</td>\n",
       "      <td>-73.990485</td>\n",
       "      <td>40.756422</td>\n",
       "      <td>-73.971205</td>\n",
       "      <td>40.748192</td>\n",
       "      <td>1</td>\n",
       "      <td>1.864129</td>\n",
       "    </tr>\n",
       "    <tr>\n",
       "      <th>4</th>\n",
       "      <td>2010-04-17 02:19:01 UTC</td>\n",
       "      <td>19.7</td>\n",
       "      <td>1</td>\n",
       "      <td>-73.990976</td>\n",
       "      <td>40.734202</td>\n",
       "      <td>-73.905956</td>\n",
       "      <td>40.743115</td>\n",
       "      <td>1</td>\n",
       "      <td>7.231321</td>\n",
       "    </tr>\n",
       "  </tbody>\n",
       "</table>\n",
       "</div>"
      ],
      "text/plain": [
       "           pickup_datetime  fare_amount  fare_class  pickup_longitude  \\\n",
       "0  2010-04-19 08:17:56 UTC          6.5           0        -73.992365   \n",
       "1  2010-04-17 15:43:53 UTC          6.9           0        -73.990078   \n",
       "2  2010-04-17 11:23:26 UTC         10.1           1        -73.994149   \n",
       "3  2010-04-11 21:25:03 UTC          8.9           0        -73.990485   \n",
       "4  2010-04-17 02:19:01 UTC         19.7           1        -73.990976   \n",
       "\n",
       "   pickup_latitude  dropoff_longitude  dropoff_latitude  passenger_count  \\\n",
       "0        40.730521         -73.975499         40.744746                1   \n",
       "1        40.740558         -73.974232         40.744114                1   \n",
       "2        40.751118         -73.960064         40.766235                2   \n",
       "3        40.756422         -73.971205         40.748192                1   \n",
       "4        40.734202         -73.905956         40.743115                1   \n",
       "\n",
       "   distance  \n",
       "0  2.126312  \n",
       "1  1.392307  \n",
       "2  3.326763  \n",
       "3  1.864129  \n",
       "4  7.231321  "
      ]
     },
     "execution_count": 7,
     "metadata": {},
     "output_type": "execute_result"
    }
   ],
   "source": [
    "df.head()"
   ]
  },
  {
   "cell_type": "code",
   "execution_count": 8,
   "id": "ebb8eb4e",
   "metadata": {},
   "outputs": [],
   "source": [
    "#extracting datetime\n",
    "df['pickup_datetime'] = pd.to_datetime(df['pickup_datetime'])"
   ]
  },
  {
   "cell_type": "code",
   "execution_count": 9,
   "id": "dc7bf51b",
   "metadata": {},
   "outputs": [],
   "source": [
    "df['datetime'] = df['pickup_datetime']-pd.Timedelta(hours=4)"
   ]
  },
  {
   "cell_type": "code",
   "execution_count": 10,
   "id": "29761f75",
   "metadata": {},
   "outputs": [],
   "source": [
    "df.drop('pickup_datetime',axis=1,inplace=True)"
   ]
  },
  {
   "cell_type": "code",
   "execution_count": 11,
   "id": "cb9f26ff",
   "metadata": {},
   "outputs": [],
   "source": [
    "df['Hrs'] = df['datetime'].apply(lambda date : date.hour)"
   ]
  },
  {
   "cell_type": "code",
   "execution_count": 12,
   "id": "05751a3f",
   "metadata": {},
   "outputs": [],
   "source": [
    "df['min'] = df['datetime'].apply(lambda date : date.minute)"
   ]
  },
  {
   "cell_type": "code",
   "execution_count": 13,
   "id": "89c111e9",
   "metadata": {},
   "outputs": [],
   "source": [
    "df['am_pm'] = df['Hrs'].apply(lambda hr : \"AM\" if hr < 12 else \"PM\")"
   ]
  },
  {
   "cell_type": "code",
   "execution_count": 14,
   "id": "bcd653e2",
   "metadata": {},
   "outputs": [],
   "source": [
    "df['Date'] = df['datetime'].apply(lambda date : date.day)"
   ]
  },
  {
   "cell_type": "code",
   "execution_count": 15,
   "id": "cf141fbb",
   "metadata": {},
   "outputs": [],
   "source": [
    "df['Week_day'] = df['datetime'].apply(lambda date : date.day_of_week)"
   ]
  },
  {
   "cell_type": "code",
   "execution_count": 16,
   "id": "309495d7",
   "metadata": {},
   "outputs": [
    {
     "data": {
      "text/html": [
       "<div>\n",
       "<style scoped>\n",
       "    .dataframe tbody tr th:only-of-type {\n",
       "        vertical-align: middle;\n",
       "    }\n",
       "\n",
       "    .dataframe tbody tr th {\n",
       "        vertical-align: top;\n",
       "    }\n",
       "\n",
       "    .dataframe thead th {\n",
       "        text-align: right;\n",
       "    }\n",
       "</style>\n",
       "<table border=\"1\" class=\"dataframe\">\n",
       "  <thead>\n",
       "    <tr style=\"text-align: right;\">\n",
       "      <th></th>\n",
       "      <th>fare_amount</th>\n",
       "      <th>fare_class</th>\n",
       "      <th>pickup_longitude</th>\n",
       "      <th>pickup_latitude</th>\n",
       "      <th>dropoff_longitude</th>\n",
       "      <th>dropoff_latitude</th>\n",
       "      <th>passenger_count</th>\n",
       "      <th>distance</th>\n",
       "      <th>datetime</th>\n",
       "      <th>Hrs</th>\n",
       "      <th>min</th>\n",
       "      <th>am_pm</th>\n",
       "      <th>Date</th>\n",
       "      <th>Week_day</th>\n",
       "    </tr>\n",
       "  </thead>\n",
       "  <tbody>\n",
       "    <tr>\n",
       "      <th>0</th>\n",
       "      <td>6.5</td>\n",
       "      <td>0</td>\n",
       "      <td>-73.992365</td>\n",
       "      <td>40.730521</td>\n",
       "      <td>-73.975499</td>\n",
       "      <td>40.744746</td>\n",
       "      <td>1</td>\n",
       "      <td>2.126312</td>\n",
       "      <td>2010-04-19 04:17:56+00:00</td>\n",
       "      <td>4</td>\n",
       "      <td>17</td>\n",
       "      <td>AM</td>\n",
       "      <td>19</td>\n",
       "      <td>0</td>\n",
       "    </tr>\n",
       "    <tr>\n",
       "      <th>1</th>\n",
       "      <td>6.9</td>\n",
       "      <td>0</td>\n",
       "      <td>-73.990078</td>\n",
       "      <td>40.740558</td>\n",
       "      <td>-73.974232</td>\n",
       "      <td>40.744114</td>\n",
       "      <td>1</td>\n",
       "      <td>1.392307</td>\n",
       "      <td>2010-04-17 11:43:53+00:00</td>\n",
       "      <td>11</td>\n",
       "      <td>43</td>\n",
       "      <td>AM</td>\n",
       "      <td>17</td>\n",
       "      <td>5</td>\n",
       "    </tr>\n",
       "    <tr>\n",
       "      <th>2</th>\n",
       "      <td>10.1</td>\n",
       "      <td>1</td>\n",
       "      <td>-73.994149</td>\n",
       "      <td>40.751118</td>\n",
       "      <td>-73.960064</td>\n",
       "      <td>40.766235</td>\n",
       "      <td>2</td>\n",
       "      <td>3.326763</td>\n",
       "      <td>2010-04-17 07:23:26+00:00</td>\n",
       "      <td>7</td>\n",
       "      <td>23</td>\n",
       "      <td>AM</td>\n",
       "      <td>17</td>\n",
       "      <td>5</td>\n",
       "    </tr>\n",
       "    <tr>\n",
       "      <th>3</th>\n",
       "      <td>8.9</td>\n",
       "      <td>0</td>\n",
       "      <td>-73.990485</td>\n",
       "      <td>40.756422</td>\n",
       "      <td>-73.971205</td>\n",
       "      <td>40.748192</td>\n",
       "      <td>1</td>\n",
       "      <td>1.864129</td>\n",
       "      <td>2010-04-11 17:25:03+00:00</td>\n",
       "      <td>17</td>\n",
       "      <td>25</td>\n",
       "      <td>PM</td>\n",
       "      <td>11</td>\n",
       "      <td>6</td>\n",
       "    </tr>\n",
       "    <tr>\n",
       "      <th>4</th>\n",
       "      <td>19.7</td>\n",
       "      <td>1</td>\n",
       "      <td>-73.990976</td>\n",
       "      <td>40.734202</td>\n",
       "      <td>-73.905956</td>\n",
       "      <td>40.743115</td>\n",
       "      <td>1</td>\n",
       "      <td>7.231321</td>\n",
       "      <td>2010-04-16 22:19:01+00:00</td>\n",
       "      <td>22</td>\n",
       "      <td>19</td>\n",
       "      <td>PM</td>\n",
       "      <td>16</td>\n",
       "      <td>4</td>\n",
       "    </tr>\n",
       "  </tbody>\n",
       "</table>\n",
       "</div>"
      ],
      "text/plain": [
       "   fare_amount  fare_class  pickup_longitude  pickup_latitude  \\\n",
       "0          6.5           0        -73.992365        40.730521   \n",
       "1          6.9           0        -73.990078        40.740558   \n",
       "2         10.1           1        -73.994149        40.751118   \n",
       "3          8.9           0        -73.990485        40.756422   \n",
       "4         19.7           1        -73.990976        40.734202   \n",
       "\n",
       "   dropoff_longitude  dropoff_latitude  passenger_count  distance  \\\n",
       "0         -73.975499         40.744746                1  2.126312   \n",
       "1         -73.974232         40.744114                1  1.392307   \n",
       "2         -73.960064         40.766235                2  3.326763   \n",
       "3         -73.971205         40.748192                1  1.864129   \n",
       "4         -73.905956         40.743115                1  7.231321   \n",
       "\n",
       "                   datetime  Hrs  min am_pm  Date  Week_day  \n",
       "0 2010-04-19 04:17:56+00:00    4   17    AM    19         0  \n",
       "1 2010-04-17 11:43:53+00:00   11   43    AM    17         5  \n",
       "2 2010-04-17 07:23:26+00:00    7   23    AM    17         5  \n",
       "3 2010-04-11 17:25:03+00:00   17   25    PM    11         6  \n",
       "4 2010-04-16 22:19:01+00:00   22   19    PM    16         4  "
      ]
     },
     "execution_count": 16,
     "metadata": {},
     "output_type": "execute_result"
    }
   ],
   "source": [
    "df.head()"
   ]
  },
  {
   "cell_type": "code",
   "execution_count": 17,
   "id": "39fa26fb",
   "metadata": {},
   "outputs": [],
   "source": [
    "df.drop(['fare_amount','datetime'],axis=1,inplace=True)"
   ]
  },
  {
   "cell_type": "code",
   "execution_count": 18,
   "id": "7be67cab",
   "metadata": {},
   "outputs": [],
   "source": [
    "cat_cols = ['Hrs', 'min', 'am_pm', 'Date', 'Week_day']\n",
    "num_cols = ['pickup_longitude', 'pickup_latitude',\n",
    "       'dropoff_longitude', 'dropoff_latitude', 'passenger_count', 'distance']\n",
    "y_col = ['fare_class']\n"
   ]
  },
  {
   "cell_type": "code",
   "execution_count": 19,
   "id": "c264c949",
   "metadata": {},
   "outputs": [],
   "source": [
    "for col in cat_cols:\n",
    "    df[col] = df[col].astype('category')"
   ]
  },
  {
   "cell_type": "code",
   "execution_count": 20,
   "id": "7460e14c",
   "metadata": {},
   "outputs": [],
   "source": [
    "cats = np.stack([df[col].cat.codes for col in cat_cols],axis=1)"
   ]
  },
  {
   "cell_type": "code",
   "execution_count": 21,
   "id": "50dc92d1",
   "metadata": {},
   "outputs": [
    {
     "data": {
      "text/plain": [
       "0          4\n",
       "1         11\n",
       "2          7\n",
       "3         17\n",
       "4         22\n",
       "          ..\n",
       "119995    10\n",
       "119996     6\n",
       "119997    14\n",
       "119998     4\n",
       "119999    12\n",
       "Length: 120000, dtype: int8"
      ]
     },
     "execution_count": 21,
     "metadata": {},
     "output_type": "execute_result"
    }
   ],
   "source": [
    "df['Hrs'].cat.codes"
   ]
  },
  {
   "cell_type": "code",
   "execution_count": 22,
   "id": "1c2d88ab",
   "metadata": {},
   "outputs": [],
   "source": [
    "conts = np.stack([df[col].values for col in num_cols],axis=1)"
   ]
  },
  {
   "cell_type": "code",
   "execution_count": 23,
   "id": "0673c848",
   "metadata": {},
   "outputs": [],
   "source": [
    "cats = torch.tensor(cats,dtype=torch.int32)"
   ]
  },
  {
   "cell_type": "code",
   "execution_count": 24,
   "id": "7ab4c96a",
   "metadata": {},
   "outputs": [],
   "source": [
    "conts = torch.tensor(conts,dtype=torch.float32)"
   ]
  },
  {
   "cell_type": "code",
   "execution_count": 25,
   "id": "93dc092b",
   "metadata": {},
   "outputs": [],
   "source": [
    "y = torch.tensor(df[y_col].values)"
   ]
  },
  {
   "cell_type": "code",
   "execution_count": 26,
   "id": "aa9eb0c6",
   "metadata": {},
   "outputs": [
    {
     "data": {
      "text/plain": [
       "tensor([[0],\n",
       "        [0],\n",
       "        [1],\n",
       "        ...,\n",
       "        [1],\n",
       "        [0],\n",
       "        [0]])"
      ]
     },
     "execution_count": 26,
     "metadata": {},
     "output_type": "execute_result"
    }
   ],
   "source": [
    "y"
   ]
  },
  {
   "cell_type": "code",
   "execution_count": 27,
   "id": "5054c07f",
   "metadata": {},
   "outputs": [
    {
     "data": {
      "text/plain": [
       "tensor([[0],\n",
       "        [0],\n",
       "        [1],\n",
       "        ...,\n",
       "        [1],\n",
       "        [0],\n",
       "        [0]])"
      ]
     },
     "execution_count": 27,
     "metadata": {},
     "output_type": "execute_result"
    }
   ],
   "source": [
    "y"
   ]
  },
  {
   "cell_type": "code",
   "execution_count": 28,
   "id": "e353dc0d",
   "metadata": {},
   "outputs": [
    {
     "data": {
      "text/plain": [
       "[(24, 12), (60, 30), (2, 1), (14, 7), (7, 4)]"
      ]
     },
     "execution_count": 28,
     "metadata": {},
     "output_type": "execute_result"
    }
   ],
   "source": [
    "cat_szs = [len(df[col].cat.categories) for col in cat_cols]\n",
    "emb_szs = [(size,min(50,(size+1)//2)) for size in cat_szs]\n",
    "emb_szs"
   ]
  },
  {
   "cell_type": "markdown",
   "id": "365523d7",
   "metadata": {},
   "source": [
    "### model"
   ]
  },
  {
   "cell_type": "code",
   "execution_count": 29,
   "id": "2cccdff4",
   "metadata": {},
   "outputs": [],
   "source": [
    "class Model(nn.Module):\n",
    "    \n",
    "    def __init__(self,emb_szs,n_cont,out_sz,layers,p=0.4):\n",
    "        super().__init__()\n",
    "        \n",
    "        self.embeds = nn.ModuleList([nn.Embedding(ni,nf) for ni,nf in emb_szs])\n",
    "        self.em_drop = nn.Dropout(p)\n",
    "        n_emb = sum([nf for ni,nf in emb_szs ])\n",
    "        \n",
    "        self.bn_cont = nn.BatchNorm1d(n_cont)\n",
    "        n_in = n_cont + n_emb\n",
    "        \n",
    "        layerlist = []\n",
    "        for i in layers:\n",
    "            layerlist.append(nn.Linear(n_in,i))\n",
    "            layerlist.append(nn.ReLU(inplace=True))\n",
    "            layerlist.append(nn.BatchNorm1d(i))\n",
    "            layerlist.append(nn.Dropout(p))\n",
    "            n_in = i\n",
    "        layerlist.append(nn.Linear(layers[-1],out_sz))\n",
    "        self.layers = nn.Sequential(*layerlist)\n",
    "        \n",
    "    def forward(self,x_cat,x_cont):\n",
    "        embeddings = []\n",
    "        for i,e in enumerate(self.embeds):\n",
    "            embeddings.append(e(x_cat[:,i]))\n",
    "        x = torch.cat(embeddings,1)\n",
    "        x = self.em_drop(x)\n",
    "            \n",
    "        x_cont = self.bn_cont(x_cont)\n",
    "        x = torch.cat([x,x_cont],1)\n",
    "        x = self.layers(x)\n",
    "        return x"
   ]
  },
  {
   "cell_type": "code",
   "execution_count": 30,
   "id": "24b94f7b",
   "metadata": {},
   "outputs": [
    {
     "data": {
      "text/plain": [
       "Model(\n",
       "  (embeds): ModuleList(\n",
       "    (0): Embedding(24, 12)\n",
       "    (1): Embedding(60, 30)\n",
       "    (2): Embedding(2, 1)\n",
       "    (3): Embedding(14, 7)\n",
       "    (4): Embedding(7, 4)\n",
       "  )\n",
       "  (em_drop): Dropout(p=0.4, inplace=False)\n",
       "  (bn_cont): BatchNorm1d(6, eps=1e-05, momentum=0.1, affine=True, track_running_stats=True)\n",
       "  (layers): Sequential(\n",
       "    (0): Linear(in_features=60, out_features=128, bias=True)\n",
       "    (1): ReLU(inplace=True)\n",
       "    (2): BatchNorm1d(128, eps=1e-05, momentum=0.1, affine=True, track_running_stats=True)\n",
       "    (3): Dropout(p=0.4, inplace=False)\n",
       "    (4): Linear(in_features=128, out_features=64, bias=True)\n",
       "    (5): ReLU(inplace=True)\n",
       "    (6): BatchNorm1d(64, eps=1e-05, momentum=0.1, affine=True, track_running_stats=True)\n",
       "    (7): Dropout(p=0.4, inplace=False)\n",
       "    (8): Linear(in_features=64, out_features=32, bias=True)\n",
       "    (9): ReLU(inplace=True)\n",
       "    (10): BatchNorm1d(32, eps=1e-05, momentum=0.1, affine=True, track_running_stats=True)\n",
       "    (11): Dropout(p=0.4, inplace=False)\n",
       "    (12): Linear(in_features=32, out_features=16, bias=True)\n",
       "    (13): ReLU(inplace=True)\n",
       "    (14): BatchNorm1d(16, eps=1e-05, momentum=0.1, affine=True, track_running_stats=True)\n",
       "    (15): Dropout(p=0.4, inplace=False)\n",
       "    (16): Linear(in_features=16, out_features=8, bias=True)\n",
       "    (17): ReLU(inplace=True)\n",
       "    (18): BatchNorm1d(8, eps=1e-05, momentum=0.1, affine=True, track_running_stats=True)\n",
       "    (19): Dropout(p=0.4, inplace=False)\n",
       "    (20): Linear(in_features=8, out_features=4, bias=True)\n",
       "    (21): ReLU(inplace=True)\n",
       "    (22): BatchNorm1d(4, eps=1e-05, momentum=0.1, affine=True, track_running_stats=True)\n",
       "    (23): Dropout(p=0.4, inplace=False)\n",
       "    (24): Linear(in_features=4, out_features=2, bias=True)\n",
       "  )\n",
       ")"
      ]
     },
     "execution_count": 30,
     "metadata": {},
     "output_type": "execute_result"
    }
   ],
   "source": [
    "device = torch.device(\"mps\")\n",
    "model = Model(emb_szs,conts.shape[1],2,[128,64,32,16,8,4],p=0.4)\n",
    "model.to(device)"
   ]
  },
  {
   "cell_type": "code",
   "execution_count": 31,
   "id": "0403b046",
   "metadata": {},
   "outputs": [],
   "source": [
    "batch_size = len(df)\n",
    "test_size = int(batch_size*0.2)"
   ]
  },
  {
   "cell_type": "code",
   "execution_count": 32,
   "id": "1f605d6a",
   "metadata": {},
   "outputs": [],
   "source": [
    "cat_train = cats[:batch_size-test_size].to(device)\n",
    "cat_test = cats[batch_size-test_size:].to(device)\n",
    "cont_train = conts[:batch_size-test_size].to(device)\n",
    "cont_test = conts[batch_size-test_size:].to(device)\n",
    "y_train = y[:batch_size-test_size].to(device)\n",
    "y_test = y[batch_size-test_size:].to(device)"
   ]
  },
  {
   "cell_type": "code",
   "execution_count": 33,
   "id": "1db5d1fe",
   "metadata": {},
   "outputs": [],
   "source": [
    "criterion = nn.CrossEntropyLoss()"
   ]
  },
  {
   "cell_type": "code",
   "execution_count": 34,
   "id": "941b2d3b",
   "metadata": {},
   "outputs": [],
   "source": [
    "optimizer = torch.optim.Adam(model.parameters(),lr=0.01)"
   ]
  },
  {
   "cell_type": "code",
   "execution_count": 35,
   "id": "fbf9e8f4",
   "metadata": {},
   "outputs": [
    {
     "name": "stdout",
     "output_type": "stream",
     "text": [
      "epoch : 10/1500 loss : 0.7278299331665039\n",
      "epoch : 20/1500 loss : 0.5701934695243835\n",
      "epoch : 30/1500 loss : 0.4245424270629883\n",
      "epoch : 40/1500 loss : 0.3753288984298706\n",
      "epoch : 50/1500 loss : 0.35354578495025635\n",
      "epoch : 60/1500 loss : 0.3432753086090088\n",
      "epoch : 70/1500 loss : 0.33722224831581116\n",
      "epoch : 80/1500 loss : 0.32985302805900574\n",
      "epoch : 90/1500 loss : 0.32600289583206177\n",
      "epoch : 100/1500 loss : 0.32229292392730713\n",
      "epoch : 110/1500 loss : 0.32513245940208435\n",
      "epoch : 120/1500 loss : 0.32221269607543945\n",
      "epoch : 130/1500 loss : 0.31559810042381287\n",
      "epoch : 140/1500 loss : 0.3142234981060028\n",
      "epoch : 150/1500 loss : 0.30977413058280945\n",
      "epoch : 160/1500 loss : 0.30944570899009705\n",
      "epoch : 170/1500 loss : 0.3060839772224426\n",
      "epoch : 180/1500 loss : 0.30526912212371826\n",
      "epoch : 190/1500 loss : 0.30177533626556396\n",
      "epoch : 200/1500 loss : 0.29665428400039673\n",
      "epoch : 210/1500 loss : 0.2923181653022766\n",
      "epoch : 220/1500 loss : 0.29014283418655396\n",
      "epoch : 230/1500 loss : 0.28529369831085205\n",
      "epoch : 240/1500 loss : 0.2841750979423523\n",
      "epoch : 250/1500 loss : 0.28495582938194275\n",
      "epoch : 260/1500 loss : 0.28244873881340027\n",
      "epoch : 270/1500 loss : 0.27921101450920105\n",
      "epoch : 280/1500 loss : 0.27775537967681885\n",
      "epoch : 290/1500 loss : 0.27829161286354065\n",
      "epoch : 300/1500 loss : 0.27744466066360474\n",
      "epoch : 310/1500 loss : 0.274136483669281\n",
      "epoch : 320/1500 loss : 0.27480703592300415\n",
      "epoch : 330/1500 loss : 0.27331778407096863\n",
      "epoch : 340/1500 loss : 0.27303263545036316\n",
      "epoch : 350/1500 loss : 0.2721881568431854\n",
      "epoch : 360/1500 loss : 0.2729955315589905\n",
      "epoch : 370/1500 loss : 0.27231988310813904\n",
      "epoch : 380/1500 loss : 0.2704015374183655\n",
      "epoch : 390/1500 loss : 0.26919054985046387\n",
      "epoch : 400/1500 loss : 0.2706815302371979\n",
      "epoch : 410/1500 loss : 0.2689730226993561\n",
      "epoch : 420/1500 loss : 0.26871129870414734\n",
      "epoch : 430/1500 loss : 0.2673511207103729\n",
      "epoch : 440/1500 loss : 0.2676454186439514\n",
      "epoch : 450/1500 loss : 0.26637208461761475\n",
      "epoch : 460/1500 loss : 0.2663673162460327\n",
      "epoch : 470/1500 loss : 0.2658035159111023\n",
      "epoch : 480/1500 loss : 0.26634830236434937\n",
      "epoch : 490/1500 loss : 0.2655552327632904\n",
      "epoch : 500/1500 loss : 0.26614269614219666\n",
      "epoch : 510/1500 loss : 0.2658414840698242\n",
      "epoch : 520/1500 loss : 0.2658475339412689\n",
      "epoch : 530/1500 loss : 0.2642577290534973\n",
      "epoch : 540/1500 loss : 0.2664044499397278\n",
      "epoch : 550/1500 loss : 0.2642011344432831\n",
      "epoch : 560/1500 loss : 0.2637706398963928\n",
      "epoch : 570/1500 loss : 0.26346611976623535\n",
      "epoch : 580/1500 loss : 0.2643060088157654\n",
      "epoch : 590/1500 loss : 0.2621684670448303\n",
      "epoch : 600/1500 loss : 0.26319462060928345\n",
      "epoch : 610/1500 loss : 0.2630779445171356\n",
      "epoch : 620/1500 loss : 0.2628059387207031\n",
      "epoch : 630/1500 loss : 0.26369786262512207\n",
      "epoch : 640/1500 loss : 0.26361894607543945\n",
      "epoch : 650/1500 loss : 0.2616432309150696\n",
      "epoch : 660/1500 loss : 0.2639995515346527\n",
      "epoch : 670/1500 loss : 0.2621576488018036\n",
      "epoch : 680/1500 loss : 0.26230886578559875\n",
      "epoch : 690/1500 loss : 0.26200228929519653\n",
      "epoch : 700/1500 loss : 0.2627728581428528\n",
      "epoch : 710/1500 loss : 0.26096442341804504\n",
      "epoch : 720/1500 loss : 0.2608850598335266\n",
      "epoch : 730/1500 loss : 0.2628147304058075\n",
      "epoch : 740/1500 loss : 0.26267504692077637\n",
      "epoch : 750/1500 loss : 0.26070651412010193\n",
      "epoch : 760/1500 loss : 0.26099705696105957\n",
      "epoch : 770/1500 loss : 0.2612694501876831\n",
      "epoch : 780/1500 loss : 0.26024001836776733\n",
      "epoch : 790/1500 loss : 0.26007261872291565\n",
      "epoch : 800/1500 loss : 0.26198089122772217\n",
      "epoch : 810/1500 loss : 0.26166632771492004\n",
      "epoch : 820/1500 loss : 0.26171639561653137\n",
      "epoch : 830/1500 loss : 0.2615913152694702\n",
      "epoch : 840/1500 loss : 0.261173814535141\n",
      "epoch : 850/1500 loss : 0.2609752118587494\n",
      "epoch : 860/1500 loss : 0.2592969536781311\n",
      "epoch : 870/1500 loss : 0.2608185410499573\n",
      "epoch : 880/1500 loss : 0.26003915071487427\n",
      "epoch : 890/1500 loss : 0.2607039511203766\n",
      "epoch : 900/1500 loss : 0.2618257999420166\n",
      "epoch : 910/1500 loss : 0.26155492663383484\n",
      "epoch : 920/1500 loss : 0.2616189420223236\n",
      "epoch : 930/1500 loss : 0.26102665066719055\n",
      "epoch : 940/1500 loss : 0.2599515914916992\n",
      "epoch : 950/1500 loss : 0.26069527864456177\n",
      "epoch : 960/1500 loss : 0.2619551718235016\n",
      "epoch : 970/1500 loss : 0.2596285343170166\n",
      "epoch : 980/1500 loss : 0.2593693137168884\n",
      "epoch : 990/1500 loss : 0.2601844072341919\n",
      "epoch : 1000/1500 loss : 0.2580437958240509\n",
      "epoch : 1010/1500 loss : 0.26084911823272705\n",
      "epoch : 1020/1500 loss : 0.260073721408844\n",
      "epoch : 1030/1500 loss : 0.26050910353660583\n",
      "epoch : 1040/1500 loss : 0.25897714495658875\n",
      "epoch : 1050/1500 loss : 0.25955939292907715\n",
      "epoch : 1060/1500 loss : 0.2580370604991913\n",
      "epoch : 1070/1500 loss : 0.2585521340370178\n",
      "epoch : 1080/1500 loss : 0.25853800773620605\n",
      "epoch : 1090/1500 loss : 0.25995945930480957\n",
      "epoch : 1100/1500 loss : 0.2576991021633148\n",
      "epoch : 1110/1500 loss : 0.2599993348121643\n",
      "epoch : 1120/1500 loss : 0.26109418272972107\n",
      "epoch : 1130/1500 loss : 0.2579033076763153\n",
      "epoch : 1140/1500 loss : 0.2579636573791504\n",
      "epoch : 1150/1500 loss : 0.2590809762477875\n",
      "epoch : 1160/1500 loss : 0.25886932015419006\n",
      "epoch : 1170/1500 loss : 0.26002922654151917\n",
      "epoch : 1180/1500 loss : 0.25835633277893066\n",
      "epoch : 1190/1500 loss : 0.2591326832771301\n",
      "epoch : 1200/1500 loss : 0.25921353697776794\n",
      "epoch : 1210/1500 loss : 0.2603268325328827\n",
      "epoch : 1220/1500 loss : 0.2583724856376648\n",
      "epoch : 1230/1500 loss : 0.2583557963371277\n",
      "epoch : 1240/1500 loss : 0.2566843330860138\n",
      "epoch : 1250/1500 loss : 0.25841695070266724\n",
      "epoch : 1260/1500 loss : 0.25751960277557373\n",
      "epoch : 1270/1500 loss : 0.2570173144340515\n",
      "epoch : 1280/1500 loss : 0.25770002603530884\n",
      "epoch : 1290/1500 loss : 0.2565457820892334\n",
      "epoch : 1300/1500 loss : 0.2579056918621063\n",
      "epoch : 1310/1500 loss : 0.2589270770549774\n",
      "epoch : 1320/1500 loss : 0.2576790750026703\n",
      "epoch : 1330/1500 loss : 0.25845757126808167\n",
      "epoch : 1340/1500 loss : 0.25851938128471375\n",
      "epoch : 1350/1500 loss : 0.2580345571041107\n",
      "epoch : 1360/1500 loss : 0.257651150226593\n",
      "epoch : 1370/1500 loss : 0.25683560967445374\n",
      "epoch : 1380/1500 loss : 0.2581466734409332\n",
      "epoch : 1390/1500 loss : 0.2595352232456207\n",
      "epoch : 1400/1500 loss : 0.2582211196422577\n",
      "epoch : 1410/1500 loss : 0.25844457745552063\n",
      "epoch : 1420/1500 loss : 0.25735822319984436\n",
      "epoch : 1430/1500 loss : 0.25827792286872864\n",
      "epoch : 1440/1500 loss : 0.25849831104278564\n",
      "epoch : 1450/1500 loss : 0.25711825489997864\n",
      "epoch : 1460/1500 loss : 0.25867214798927307\n",
      "epoch : 1470/1500 loss : 0.25687092542648315\n",
      "epoch : 1480/1500 loss : 0.2580825090408325\n",
      "epoch : 1490/1500 loss : 0.2570178508758545\n",
      "epoch : 1500/1500 loss : 0.2578088641166687\n"
     ]
    }
   ],
   "source": [
    "num_epochs = 1500\n",
    "losses = []\n",
    "for epoch in range(num_epochs):\n",
    "    y_pred = model.forward(cat_train,cont_train)\n",
    "    loss = criterion(y_pred,y_train.squeeze())\n",
    "    losses.append(loss.item())\n",
    "    if (epoch+1)%10 == 0:\n",
    "        print(f\"epoch : {epoch+1}/{num_epochs} loss : {loss.item()}\")\n",
    "    optimizer.zero_grad()\n",
    "    loss.backward()\n",
    "    optimizer.step()"
   ]
  },
  {
   "cell_type": "code",
   "execution_count": 36,
   "id": "6858de35",
   "metadata": {},
   "outputs": [],
   "source": [
    "with torch.no_grad():\n",
    "    y_eval = model.forward(cat_test,cont_test)\n",
    "    loss_test = criterion(y_eval,y_test.squeeze())"
   ]
  },
  {
   "cell_type": "code",
   "execution_count": null,
   "id": "4b3a4fa9",
   "metadata": {},
   "outputs": [],
   "source": []
  },
  {
   "cell_type": "code",
   "execution_count": 37,
   "id": "a8e947cb",
   "metadata": {},
   "outputs": [
    {
     "name": "stdout",
     "output_type": "stream",
     "text": [
      "tensor(0.2714, device='mps:0')\n"
     ]
    }
   ],
   "source": [
    "print(loss_test)"
   ]
  },
  {
   "cell_type": "code",
   "execution_count": 38,
   "id": "fc50d936",
   "metadata": {},
   "outputs": [],
   "source": [
    "torch.save(model,\"NYCTaxiFare_class_1500.pt\")"
   ]
  }
 ],
 "metadata": {
  "kernelspec": {
   "display_name": "Python 3 (ipykernel)",
   "language": "python",
   "name": "python3"
  },
  "language_info": {
   "codemirror_mode": {
    "name": "ipython",
    "version": 3
   },
   "file_extension": ".py",
   "mimetype": "text/x-python",
   "name": "python",
   "nbconvert_exporter": "python",
   "pygments_lexer": "ipython3",
   "version": "3.11.5"
  }
 },
 "nbformat": 4,
 "nbformat_minor": 5
}
