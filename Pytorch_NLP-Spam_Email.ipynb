{
 "cells": [
  {
   "cell_type": "code",
   "execution_count": 27,
   "id": "4e1b2986",
   "metadata": {},
   "outputs": [],
   "source": [
    "#basic imports\n",
    "import numpy as np\n",
    "import pandas as pd\n",
    "import seaborn as sns\n",
    "import matplotlib.pyplot as plt\n",
    "import torch\n",
    "import torch.nn as nn\n",
    "import torch.nn.functional as F\n",
    "from sklearn.metrics import classification_report"
   ]
  },
  {
   "cell_type": "code",
   "execution_count": 4,
   "id": "79c9ddee",
   "metadata": {},
   "outputs": [],
   "source": [
    "df = pd.read_csv('combined_data.csv')"
   ]
  },
  {
   "cell_type": "code",
   "execution_count": 5,
   "id": "4de088f7",
   "metadata": {},
   "outputs": [
    {
     "data": {
      "text/html": [
       "<div>\n",
       "<style scoped>\n",
       "    .dataframe tbody tr th:only-of-type {\n",
       "        vertical-align: middle;\n",
       "    }\n",
       "\n",
       "    .dataframe tbody tr th {\n",
       "        vertical-align: top;\n",
       "    }\n",
       "\n",
       "    .dataframe thead th {\n",
       "        text-align: right;\n",
       "    }\n",
       "</style>\n",
       "<table border=\"1\" class=\"dataframe\">\n",
       "  <thead>\n",
       "    <tr style=\"text-align: right;\">\n",
       "      <th></th>\n",
       "      <th>label</th>\n",
       "      <th>text</th>\n",
       "    </tr>\n",
       "  </thead>\n",
       "  <tbody>\n",
       "    <tr>\n",
       "      <th>0</th>\n",
       "      <td>1</td>\n",
       "      <td>ounce feather bowl hummingbird opec moment ala...</td>\n",
       "    </tr>\n",
       "    <tr>\n",
       "      <th>1</th>\n",
       "      <td>1</td>\n",
       "      <td>wulvob get your medircations online qnb ikud v...</td>\n",
       "    </tr>\n",
       "    <tr>\n",
       "      <th>2</th>\n",
       "      <td>0</td>\n",
       "      <td>computer connection from cnn com wednesday es...</td>\n",
       "    </tr>\n",
       "    <tr>\n",
       "      <th>3</th>\n",
       "      <td>1</td>\n",
       "      <td>university degree obtain a prosperous future m...</td>\n",
       "    </tr>\n",
       "    <tr>\n",
       "      <th>4</th>\n",
       "      <td>0</td>\n",
       "      <td>thanks for all your answers guys i know i shou...</td>\n",
       "    </tr>\n",
       "  </tbody>\n",
       "</table>\n",
       "</div>"
      ],
      "text/plain": [
       "   label                                               text\n",
       "0      1  ounce feather bowl hummingbird opec moment ala...\n",
       "1      1  wulvob get your medircations online qnb ikud v...\n",
       "2      0   computer connection from cnn com wednesday es...\n",
       "3      1  university degree obtain a prosperous future m...\n",
       "4      0  thanks for all your answers guys i know i shou..."
      ]
     },
     "execution_count": 5,
     "metadata": {},
     "output_type": "execute_result"
    }
   ],
   "source": [
    "df.head()"
   ]
  },
  {
   "cell_type": "code",
   "execution_count": 6,
   "id": "310bf529",
   "metadata": {},
   "outputs": [],
   "source": [
    "sampled_df = df.sample(frac=0.2)"
   ]
  },
  {
   "cell_type": "code",
   "execution_count": 7,
   "id": "8e454406",
   "metadata": {},
   "outputs": [
    {
     "data": {
      "text/plain": [
       "label\n",
       "1    8662\n",
       "0    8028\n",
       "Name: count, dtype: int64"
      ]
     },
     "execution_count": 7,
     "metadata": {},
     "output_type": "execute_result"
    }
   ],
   "source": [
    "sampled_df['label'].value_counts()"
   ]
  },
  {
   "cell_type": "code",
   "execution_count": 8,
   "id": "df3b39ff",
   "metadata": {},
   "outputs": [
    {
     "data": {
      "text/plain": [
       "[]"
      ]
     },
     "execution_count": 8,
     "metadata": {},
     "output_type": "execute_result"
    }
   ],
   "source": [
    "#to check blanks\n",
    "blanks = []\n",
    "for i,lb,txt in sampled_df.itertuples():\n",
    "    if type(txt) == str:\n",
    "        if txt.isspace():\n",
    "            blanks.append(i)\n",
    "blanks"
   ]
  },
  {
   "cell_type": "code",
   "execution_count": 9,
   "id": "f3871238",
   "metadata": {},
   "outputs": [],
   "source": [
    "sampled_df.dropna(inplace=True)\n",
    "sampled_df.drop_duplicates(inplace=True)"
   ]
  },
  {
   "cell_type": "markdown",
   "id": "248e10de",
   "metadata": {},
   "source": [
    "### cleaning text using spacy, the lemma and stem"
   ]
  },
  {
   "cell_type": "code",
   "execution_count": 10,
   "id": "81b01ddb",
   "metadata": {},
   "outputs": [],
   "source": [
    "import spacy\n",
    "nlp = spacy.load('en_core_web_sm')"
   ]
  },
  {
   "cell_type": "code",
   "execution_count": 11,
   "id": "db4f710b",
   "metadata": {},
   "outputs": [],
   "source": [
    "def clean_text(text):\n",
    "    doc = nlp(text.lower())\n",
    "    clean_txt = ' '.join([token.lemma_ for token in doc if not token.is_stop and not token.is_punct])\n",
    "    return clean_txt"
   ]
  },
  {
   "cell_type": "code",
   "execution_count": 12,
   "id": "7addabb1",
   "metadata": {},
   "outputs": [
    {
     "name": "stdout",
     "output_type": "stream",
     "text": [
      "631.920508146286\n"
     ]
    }
   ],
   "source": [
    "import time\n",
    "start = time.time()\n",
    "sampled_df['lemma_text'] = sampled_df['text'].apply(clean_text)\n",
    "end = time.time()\n",
    "print(end-start)"
   ]
  },
  {
   "cell_type": "code",
   "execution_count": 13,
   "id": "3f677e25",
   "metadata": {},
   "outputs": [],
   "source": [
    "from nltk.stem import PorterStemmer\n",
    "stemmer = PorterStemmer()\n",
    "sampled_df['stem_text'] = sampled_df['text'].apply(lambda x : stemmer.stem(x))"
   ]
  },
  {
   "cell_type": "code",
   "execution_count": 14,
   "id": "831678fc",
   "metadata": {},
   "outputs": [],
   "source": [
    "y = sampled_df['label']\n",
    "X_stem = sampled_df['stem_text']\n",
    "X_lemm = sampled_df['lemma_text']"
   ]
  },
  {
   "cell_type": "code",
   "execution_count": 15,
   "id": "baaf6ad2",
   "metadata": {},
   "outputs": [],
   "source": [
    "#tfidf\n",
    "from sklearn.feature_extraction.text import TfidfVectorizer\n",
    "tfidf = TfidfVectorizer(max_features=10000)\n",
    "X_stem = tfidf.fit_transform(X_stem).toarray()\n",
    "X_lemm = tfidf.fit_transform(X_lemm).toarray()"
   ]
  },
  {
   "cell_type": "code",
   "execution_count": 16,
   "id": "3c6df437",
   "metadata": {},
   "outputs": [],
   "source": [
    "from sklearn.model_selection import train_test_split"
   ]
  },
  {
   "cell_type": "code",
   "execution_count": 61,
   "id": "57925db2",
   "metadata": {},
   "outputs": [],
   "source": [
    "X_train_stem,X_test_stem,y_train_stem,y_test_stem = train_test_split(X_stem,y,test_size=0.2)"
   ]
  },
  {
   "cell_type": "code",
   "execution_count": 62,
   "id": "2f76e832",
   "metadata": {},
   "outputs": [],
   "source": [
    "X_train_lemm,X_test_lemm,y_train_lemm,y_test_lemm = train_test_split(X_lemm,y,test_size=0.2)"
   ]
  },
  {
   "cell_type": "code",
   "execution_count": 25,
   "id": "6fcd71f0",
   "metadata": {},
   "outputs": [
    {
     "name": "stdout",
     "output_type": "stream",
     "text": [
      "              precision    recall  f1-score   support\n",
      "\n",
      "           0       0.94      0.94      0.94      1624\n",
      "           1       0.94      0.95      0.95      1714\n",
      "\n",
      "    accuracy                           0.94      3338\n",
      "   macro avg       0.94      0.94      0.94      3338\n",
      "weighted avg       0.94      0.94      0.94      3338\n",
      "\n"
     ]
    }
   ],
   "source": [
    "from sklearn.tree import DecisionTreeClassifier\n",
    "dtree = DecisionTreeClassifier()\n",
    "dtree.fit(X_train_stem,y_train_stem)\n",
    "pred_dtree = dtree.predict(X_test_stem)\n",
    "print(classification_report(y_test_stem,pred_dtree))"
   ]
  },
  {
   "cell_type": "code",
   "execution_count": 26,
   "id": "016489aa",
   "metadata": {},
   "outputs": [
    {
     "name": "stdout",
     "output_type": "stream",
     "text": [
      "              precision    recall  f1-score   support\n",
      "\n",
      "           0       0.94      0.94      0.94      1618\n",
      "           1       0.94      0.95      0.94      1720\n",
      "\n",
      "    accuracy                           0.94      3338\n",
      "   macro avg       0.94      0.94      0.94      3338\n",
      "weighted avg       0.94      0.94      0.94      3338\n",
      "\n"
     ]
    }
   ],
   "source": [
    "dtree = DecisionTreeClassifier()\n",
    "dtree.fit(X_train_lemm,y_train_lemm)\n",
    "pred_dtree = dtree.predict(X_test_lemm)\n",
    "print(classification_report(y_test_lemm,pred_dtree))"
   ]
  },
  {
   "cell_type": "code",
   "execution_count": 35,
   "id": "452e001f",
   "metadata": {},
   "outputs": [],
   "source": [
    "class Model(nn.Module):\n",
    "    def __init__(self,in_size,h1=128,h2=64,h3=16,out_size=2,p=0.4):\n",
    "        super(Model,self).__init__()\n",
    "        self.fc1 = nn.Linear(in_size,h1)\n",
    "        self.fc2 = nn.Linear(h1,h2)\n",
    "        self.fc3 = nn.Linear(h2,h3)\n",
    "        self.out = nn.Linear(h3,out_size)\n",
    "        self.dropout = nn.Dropout(p)\n",
    "    def forward(self,x):\n",
    "        x = F.relu(self.fc1(x))\n",
    "        x = self.dropout(x)\n",
    "        x = F.relu(self.fc2(x))\n",
    "        x = self.dropout(x)\n",
    "        x = F.relu(self.fc3(x))\n",
    "        x = self.dropout(x)\n",
    "        x = self.out(x)\n",
    "        return x"
   ]
  },
  {
   "cell_type": "code",
   "execution_count": 84,
   "id": "93283d30",
   "metadata": {},
   "outputs": [],
   "source": [
    "model = Model(X_train_lemm.shape[1])"
   ]
  },
  {
   "cell_type": "code",
   "execution_count": 85,
   "id": "2b9e3d25",
   "metadata": {},
   "outputs": [],
   "source": [
    "num_epoch = 100\n",
    "optimizer = torch.optim.Adam(model.parameters(),lr=0.001)\n",
    "criterion = nn.CrossEntropyLoss()"
   ]
  },
  {
   "cell_type": "code",
   "execution_count": 63,
   "id": "012127b7",
   "metadata": {},
   "outputs": [],
   "source": [
    "X_train_lemm,y_train_lemm = torch.Tensor(X_train_lemm),torch.LongTensor(y_train_lemm.values)\n",
    "X_train_stem,y_train_stem = torch.Tensor(X_train_stem),torch.LongTensor(y_train_stem.values)\n",
    "X_test_lemm,y_test_lemm = torch.Tensor(X_test_lemm),torch.LongTensor(y_test_lemm.values)\n",
    "X_test_stem,y_test_stem = torch.Tensor(X_test_stem),torch.LongTensor(y_test_stem.values)"
   ]
  },
  {
   "cell_type": "code",
   "execution_count": 86,
   "id": "cb31d26c",
   "metadata": {},
   "outputs": [
    {
     "name": "stdout",
     "output_type": "stream",
     "text": [
      "epoch : 1 loss : 0.7160307168960571\n",
      "epoch : 2 loss : 0.714565098285675\n",
      "epoch : 3 loss : 0.7129852175712585\n",
      "epoch : 4 loss : 0.7112254500389099\n",
      "epoch : 5 loss : 0.7085047364234924\n",
      "epoch : 6 loss : 0.706082820892334\n",
      "epoch : 7 loss : 0.7032996416091919\n",
      "epoch : 8 loss : 0.6999458074569702\n",
      "epoch : 9 loss : 0.6963393092155457\n",
      "epoch : 10 loss : 0.6922343373298645\n",
      "epoch : 11 loss : 0.6877645254135132\n",
      "epoch : 12 loss : 0.682601809501648\n",
      "epoch : 13 loss : 0.6771962642669678\n",
      "epoch : 14 loss : 0.6710528135299683\n",
      "epoch : 15 loss : 0.6639567613601685\n",
      "epoch : 16 loss : 0.6563292145729065\n",
      "epoch : 17 loss : 0.6481838226318359\n",
      "epoch : 18 loss : 0.6380200386047363\n",
      "epoch : 19 loss : 0.6283541917800903\n",
      "epoch : 20 loss : 0.6163973212242126\n",
      "epoch : 21 loss : 0.6045504212379456\n",
      "epoch : 22 loss : 0.5905366539955139\n",
      "epoch : 23 loss : 0.5779467821121216\n",
      "epoch : 24 loss : 0.5603973269462585\n",
      "epoch : 25 loss : 0.5468283891677856\n",
      "epoch : 26 loss : 0.5279354453086853\n",
      "epoch : 27 loss : 0.5109264850616455\n",
      "epoch : 28 loss : 0.4948955476284027\n",
      "epoch : 29 loss : 0.47410309314727783\n",
      "epoch : 30 loss : 0.4558512568473816\n",
      "epoch : 31 loss : 0.4348166882991791\n",
      "epoch : 32 loss : 0.4169306755065918\n",
      "epoch : 33 loss : 0.39826536178588867\n",
      "epoch : 34 loss : 0.3776949942111969\n",
      "epoch : 35 loss : 0.3580736219882965\n",
      "epoch : 36 loss : 0.34067878127098083\n",
      "epoch : 37 loss : 0.32010045647621155\n",
      "epoch : 38 loss : 0.30074143409729004\n",
      "epoch : 39 loss : 0.2840173542499542\n",
      "epoch : 40 loss : 0.26850801706314087\n",
      "epoch : 41 loss : 0.25191715359687805\n",
      "epoch : 42 loss : 0.23393891751766205\n",
      "epoch : 43 loss : 0.2249177098274231\n",
      "epoch : 44 loss : 0.20491762459278107\n",
      "epoch : 45 loss : 0.19206875562667847\n",
      "epoch : 46 loss : 0.18015314638614655\n",
      "epoch : 47 loss : 0.16766294836997986\n",
      "epoch : 48 loss : 0.15268626809120178\n",
      "epoch : 49 loss : 0.1454213708639145\n",
      "epoch : 50 loss : 0.13595956563949585\n",
      "epoch : 51 loss : 0.1259239912033081\n",
      "epoch : 52 loss : 0.11957406252622604\n",
      "epoch : 53 loss : 0.10888662934303284\n",
      "epoch : 54 loss : 0.09966128319501877\n",
      "epoch : 55 loss : 0.0939730554819107\n",
      "epoch : 56 loss : 0.08952251821756363\n",
      "epoch : 57 loss : 0.08224374055862427\n",
      "epoch : 58 loss : 0.07633478194475174\n",
      "epoch : 59 loss : 0.07260739803314209\n",
      "epoch : 60 loss : 0.06626670062541962\n",
      "epoch : 61 loss : 0.0632021576166153\n",
      "epoch : 62 loss : 0.0589725635945797\n",
      "epoch : 63 loss : 0.05601155757904053\n",
      "epoch : 64 loss : 0.05423656851053238\n",
      "epoch : 65 loss : 0.048276517540216446\n",
      "epoch : 66 loss : 0.04397046938538551\n",
      "epoch : 67 loss : 0.043736111372709274\n",
      "epoch : 68 loss : 0.04094068706035614\n",
      "epoch : 69 loss : 0.03906221315264702\n",
      "epoch : 70 loss : 0.036573100835084915\n",
      "epoch : 71 loss : 0.036671072244644165\n",
      "epoch : 72 loss : 0.03375698998570442\n",
      "epoch : 73 loss : 0.03405715152621269\n",
      "epoch : 74 loss : 0.02952655218541622\n",
      "epoch : 75 loss : 0.030105553567409515\n",
      "epoch : 76 loss : 0.028764978051185608\n",
      "epoch : 77 loss : 0.026947293430566788\n",
      "epoch : 78 loss : 0.025260770693421364\n",
      "epoch : 79 loss : 0.0216636024415493\n",
      "epoch : 80 loss : 0.020807715132832527\n",
      "epoch : 81 loss : 0.021807417273521423\n",
      "epoch : 82 loss : 0.020434560254216194\n",
      "epoch : 83 loss : 0.019864868372678757\n",
      "epoch : 84 loss : 0.01949864998459816\n",
      "epoch : 85 loss : 0.020412351936101913\n",
      "epoch : 86 loss : 0.01797933503985405\n",
      "epoch : 87 loss : 0.016784703359007835\n",
      "epoch : 88 loss : 0.016551444306969643\n",
      "epoch : 89 loss : 0.016701113432645798\n",
      "epoch : 90 loss : 0.01638227142393589\n",
      "epoch : 91 loss : 0.015011655166745186\n",
      "epoch : 92 loss : 0.01564490608870983\n",
      "epoch : 93 loss : 0.014752600342035294\n",
      "epoch : 94 loss : 0.014264624565839767\n",
      "epoch : 95 loss : 0.012706329114735126\n",
      "epoch : 96 loss : 0.013899579644203186\n",
      "epoch : 97 loss : 0.01319160871207714\n",
      "epoch : 98 loss : 0.011476986110210419\n",
      "epoch : 99 loss : 0.01233600452542305\n",
      "epoch : 100 loss : 0.012737142853438854\n"
     ]
    }
   ],
   "source": [
    "for epoch in range(num_epoch):\n",
    "    y_pred = model.forward(X_train_lemm)\n",
    "    loss = criterion(y_pred,y_train_lemm)\n",
    "    print(f\"epoch : {epoch+1} loss : {loss.item()}\")\n",
    "    optimizer.zero_grad()\n",
    "    loss.backward()\n",
    "    optimizer.step()\n",
    "    "
   ]
  },
  {
   "cell_type": "code",
   "execution_count": 87,
   "id": "02848499",
   "metadata": {},
   "outputs": [],
   "source": [
    "model.eval()\n",
    "with torch.no_grad():\n",
    "    y_eval = model.forward(X_test_lemm)"
   ]
  },
  {
   "cell_type": "code",
   "execution_count": 88,
   "id": "9f992006",
   "metadata": {},
   "outputs": [],
   "source": [
    "y_eval = torch.argmax(y_eval,1).numpy()"
   ]
  },
  {
   "cell_type": "code",
   "execution_count": 89,
   "id": "b230f0e2",
   "metadata": {},
   "outputs": [
    {
     "name": "stdout",
     "output_type": "stream",
     "text": [
      "              precision    recall  f1-score   support\n",
      "\n",
      "           0       0.98      0.98      0.98      1575\n",
      "           1       0.98      0.98      0.98      1763\n",
      "\n",
      "    accuracy                           0.98      3338\n",
      "   macro avg       0.98      0.98      0.98      3338\n",
      "weighted avg       0.98      0.98      0.98      3338\n",
      "\n"
     ]
    }
   ],
   "source": [
    "print(classification_report(y_test_lemm.numpy(),y_eval))"
   ]
  },
  {
   "cell_type": "code",
   "execution_count": null,
   "id": "903137db",
   "metadata": {},
   "outputs": [],
   "source": []
  }
 ],
 "metadata": {
  "kernelspec": {
   "display_name": "Python 3 (ipykernel)",
   "language": "python",
   "name": "python3"
  },
  "language_info": {
   "codemirror_mode": {
    "name": "ipython",
    "version": 3
   },
   "file_extension": ".py",
   "mimetype": "text/x-python",
   "name": "python",
   "nbconvert_exporter": "python",
   "pygments_lexer": "ipython3",
   "version": "3.10.15"
  }
 },
 "nbformat": 4,
 "nbformat_minor": 5
}
