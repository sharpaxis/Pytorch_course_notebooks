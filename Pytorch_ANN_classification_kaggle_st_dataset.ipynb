{
 "cells": [
  {
   "cell_type": "code",
   "execution_count": 1,
   "id": "1ee7ef3d",
   "metadata": {},
   "outputs": [],
   "source": [
    "#basic import\n",
    "import numpy as np\n",
    "import pandas as pd\n",
    "import matplotlib.pyplot as plt\n",
    "import seaborn as sns\n",
    "import warnings\n",
    "warnings.filterwarnings('ignore')\n",
    "import torch\n",
    "import torch.nn as nn\n",
    "import torch.nn.functional as F\n",
    "import torch.optim as optim"
   ]
  },
  {
   "cell_type": "code",
   "execution_count": 2,
   "id": "c6b0f3c6",
   "metadata": {},
   "outputs": [],
   "source": [
    "device = torch.device(\"mps\")"
   ]
  },
  {
   "cell_type": "code",
   "execution_count": 3,
   "id": "7fbc356a",
   "metadata": {},
   "outputs": [],
   "source": [
    "train_df = pd.read_csv('train.csv')"
   ]
  },
  {
   "cell_type": "code",
   "execution_count": 4,
   "id": "80dd1988",
   "metadata": {},
   "outputs": [],
   "source": [
    "test_df = pd.read_csv('test.csv')"
   ]
  },
  {
   "cell_type": "code",
   "execution_count": 5,
   "id": "152e7ee2",
   "metadata": {},
   "outputs": [
    {
     "data": {
      "text/html": [
       "<div>\n",
       "<style scoped>\n",
       "    .dataframe tbody tr th:only-of-type {\n",
       "        vertical-align: middle;\n",
       "    }\n",
       "\n",
       "    .dataframe tbody tr th {\n",
       "        vertical-align: top;\n",
       "    }\n",
       "\n",
       "    .dataframe thead th {\n",
       "        text-align: right;\n",
       "    }\n",
       "</style>\n",
       "<table border=\"1\" class=\"dataframe\">\n",
       "  <thead>\n",
       "    <tr style=\"text-align: right;\">\n",
       "      <th></th>\n",
       "      <th>PassengerId</th>\n",
       "      <th>HomePlanet</th>\n",
       "      <th>CryoSleep</th>\n",
       "      <th>Cabin</th>\n",
       "      <th>Destination</th>\n",
       "      <th>Age</th>\n",
       "      <th>VIP</th>\n",
       "      <th>RoomService</th>\n",
       "      <th>FoodCourt</th>\n",
       "      <th>ShoppingMall</th>\n",
       "      <th>Spa</th>\n",
       "      <th>VRDeck</th>\n",
       "      <th>Name</th>\n",
       "      <th>Transported</th>\n",
       "    </tr>\n",
       "  </thead>\n",
       "  <tbody>\n",
       "    <tr>\n",
       "      <th>0</th>\n",
       "      <td>0001_01</td>\n",
       "      <td>Europa</td>\n",
       "      <td>False</td>\n",
       "      <td>B/0/P</td>\n",
       "      <td>TRAPPIST-1e</td>\n",
       "      <td>39.0</td>\n",
       "      <td>False</td>\n",
       "      <td>0.0</td>\n",
       "      <td>0.0</td>\n",
       "      <td>0.0</td>\n",
       "      <td>0.0</td>\n",
       "      <td>0.0</td>\n",
       "      <td>Maham Ofracculy</td>\n",
       "      <td>False</td>\n",
       "    </tr>\n",
       "    <tr>\n",
       "      <th>1</th>\n",
       "      <td>0002_01</td>\n",
       "      <td>Earth</td>\n",
       "      <td>False</td>\n",
       "      <td>F/0/S</td>\n",
       "      <td>TRAPPIST-1e</td>\n",
       "      <td>24.0</td>\n",
       "      <td>False</td>\n",
       "      <td>109.0</td>\n",
       "      <td>9.0</td>\n",
       "      <td>25.0</td>\n",
       "      <td>549.0</td>\n",
       "      <td>44.0</td>\n",
       "      <td>Juanna Vines</td>\n",
       "      <td>True</td>\n",
       "    </tr>\n",
       "    <tr>\n",
       "      <th>2</th>\n",
       "      <td>0003_01</td>\n",
       "      <td>Europa</td>\n",
       "      <td>False</td>\n",
       "      <td>A/0/S</td>\n",
       "      <td>TRAPPIST-1e</td>\n",
       "      <td>58.0</td>\n",
       "      <td>True</td>\n",
       "      <td>43.0</td>\n",
       "      <td>3576.0</td>\n",
       "      <td>0.0</td>\n",
       "      <td>6715.0</td>\n",
       "      <td>49.0</td>\n",
       "      <td>Altark Susent</td>\n",
       "      <td>False</td>\n",
       "    </tr>\n",
       "    <tr>\n",
       "      <th>3</th>\n",
       "      <td>0003_02</td>\n",
       "      <td>Europa</td>\n",
       "      <td>False</td>\n",
       "      <td>A/0/S</td>\n",
       "      <td>TRAPPIST-1e</td>\n",
       "      <td>33.0</td>\n",
       "      <td>False</td>\n",
       "      <td>0.0</td>\n",
       "      <td>1283.0</td>\n",
       "      <td>371.0</td>\n",
       "      <td>3329.0</td>\n",
       "      <td>193.0</td>\n",
       "      <td>Solam Susent</td>\n",
       "      <td>False</td>\n",
       "    </tr>\n",
       "    <tr>\n",
       "      <th>4</th>\n",
       "      <td>0004_01</td>\n",
       "      <td>Earth</td>\n",
       "      <td>False</td>\n",
       "      <td>F/1/S</td>\n",
       "      <td>TRAPPIST-1e</td>\n",
       "      <td>16.0</td>\n",
       "      <td>False</td>\n",
       "      <td>303.0</td>\n",
       "      <td>70.0</td>\n",
       "      <td>151.0</td>\n",
       "      <td>565.0</td>\n",
       "      <td>2.0</td>\n",
       "      <td>Willy Santantines</td>\n",
       "      <td>True</td>\n",
       "    </tr>\n",
       "  </tbody>\n",
       "</table>\n",
       "</div>"
      ],
      "text/plain": [
       "  PassengerId HomePlanet CryoSleep  Cabin  Destination   Age    VIP  \\\n",
       "0     0001_01     Europa     False  B/0/P  TRAPPIST-1e  39.0  False   \n",
       "1     0002_01      Earth     False  F/0/S  TRAPPIST-1e  24.0  False   \n",
       "2     0003_01     Europa     False  A/0/S  TRAPPIST-1e  58.0   True   \n",
       "3     0003_02     Europa     False  A/0/S  TRAPPIST-1e  33.0  False   \n",
       "4     0004_01      Earth     False  F/1/S  TRAPPIST-1e  16.0  False   \n",
       "\n",
       "   RoomService  FoodCourt  ShoppingMall     Spa  VRDeck               Name  \\\n",
       "0          0.0        0.0           0.0     0.0     0.0    Maham Ofracculy   \n",
       "1        109.0        9.0          25.0   549.0    44.0       Juanna Vines   \n",
       "2         43.0     3576.0           0.0  6715.0    49.0      Altark Susent   \n",
       "3          0.0     1283.0         371.0  3329.0   193.0       Solam Susent   \n",
       "4        303.0       70.0         151.0   565.0     2.0  Willy Santantines   \n",
       "\n",
       "   Transported  \n",
       "0        False  \n",
       "1         True  \n",
       "2        False  \n",
       "3        False  \n",
       "4         True  "
      ]
     },
     "execution_count": 5,
     "metadata": {},
     "output_type": "execute_result"
    }
   ],
   "source": [
    "train_df.head() "
   ]
  },
  {
   "cell_type": "code",
   "execution_count": 6,
   "id": "73f6afcb",
   "metadata": {},
   "outputs": [
    {
     "name": "stdout",
     "output_type": "stream",
     "text": [
      "<class 'pandas.core.frame.DataFrame'>\n",
      "RangeIndex: 8693 entries, 0 to 8692\n",
      "Data columns (total 14 columns):\n",
      " #   Column        Non-Null Count  Dtype  \n",
      "---  ------        --------------  -----  \n",
      " 0   PassengerId   8693 non-null   object \n",
      " 1   HomePlanet    8492 non-null   object \n",
      " 2   CryoSleep     8476 non-null   object \n",
      " 3   Cabin         8494 non-null   object \n",
      " 4   Destination   8511 non-null   object \n",
      " 5   Age           8514 non-null   float64\n",
      " 6   VIP           8490 non-null   object \n",
      " 7   RoomService   8512 non-null   float64\n",
      " 8   FoodCourt     8510 non-null   float64\n",
      " 9   ShoppingMall  8485 non-null   float64\n",
      " 10  Spa           8510 non-null   float64\n",
      " 11  VRDeck        8505 non-null   float64\n",
      " 12  Name          8493 non-null   object \n",
      " 13  Transported   8693 non-null   bool   \n",
      "dtypes: bool(1), float64(6), object(7)\n",
      "memory usage: 891.5+ KB\n"
     ]
    }
   ],
   "source": [
    "train_df.info()"
   ]
  },
  {
   "cell_type": "code",
   "execution_count": 7,
   "id": "8608300a",
   "metadata": {},
   "outputs": [
    {
     "name": "stdout",
     "output_type": "stream",
     "text": [
      "<class 'pandas.core.frame.DataFrame'>\n",
      "RangeIndex: 4277 entries, 0 to 4276\n",
      "Data columns (total 13 columns):\n",
      " #   Column        Non-Null Count  Dtype  \n",
      "---  ------        --------------  -----  \n",
      " 0   PassengerId   4277 non-null   object \n",
      " 1   HomePlanet    4190 non-null   object \n",
      " 2   CryoSleep     4184 non-null   object \n",
      " 3   Cabin         4177 non-null   object \n",
      " 4   Destination   4185 non-null   object \n",
      " 5   Age           4186 non-null   float64\n",
      " 6   VIP           4184 non-null   object \n",
      " 7   RoomService   4195 non-null   float64\n",
      " 8   FoodCourt     4171 non-null   float64\n",
      " 9   ShoppingMall  4179 non-null   float64\n",
      " 10  Spa           4176 non-null   float64\n",
      " 11  VRDeck        4197 non-null   float64\n",
      " 12  Name          4183 non-null   object \n",
      "dtypes: float64(6), object(7)\n",
      "memory usage: 434.5+ KB\n"
     ]
    }
   ],
   "source": [
    "test_df.info()"
   ]
  },
  {
   "cell_type": "code",
   "execution_count": 8,
   "id": "6ce00ff6",
   "metadata": {},
   "outputs": [],
   "source": [
    "from ydata_profiling import ProfileReport\n",
    "report = ProfileReport(train_df)\n",
    "#report"
   ]
  },
  {
   "cell_type": "code",
   "execution_count": 9,
   "id": "a5359451",
   "metadata": {},
   "outputs": [
    {
     "data": {
      "text/plain": [
       "<Axes: >"
      ]
     },
     "execution_count": 9,
     "metadata": {},
     "output_type": "execute_result"
    },
    {
     "data": {
      "image/png": "[encoded data removed]",
      "text/plain": [
       "<Figure size 640x480 with 2 Axes>"
      ]
     },
     "metadata": {},
     "output_type": "display_data"
    }
   ],
   "source": [
    "sns.heatmap(train_df.select_dtypes('number').corr(),cmap='coolwarm')"
   ]
  },
  {
   "cell_type": "code",
   "execution_count": 10,
   "id": "b9daf27e",
   "metadata": {},
   "outputs": [
    {
     "data": {
      "text/plain": [
       "CryoSleep       2.496261\n",
       "ShoppingMall    2.392730\n",
       "VIP             2.335212\n",
       "HomePlanet      2.312205\n",
       "Name            2.300702\n",
       "Cabin           2.289198\n",
       "VRDeck          2.162660\n",
       "FoodCourt       2.105142\n",
       "Spa             2.105142\n",
       "Destination     2.093639\n",
       "RoomService     2.082135\n",
       "Age             2.059128\n",
       "PassengerId     0.000000\n",
       "Transported     0.000000\n",
       "dtype: float64"
      ]
     },
     "execution_count": 10,
     "metadata": {},
     "output_type": "execute_result"
    }
   ],
   "source": [
    "#missing percentage\n",
    "(train_df.isnull().sum().sort_values(ascending=False)*100)/len(train_df)"
   ]
  },
  {
   "cell_type": "code",
   "execution_count": 11,
   "id": "f14c46cb",
   "metadata": {},
   "outputs": [
    {
     "data": {
      "text/plain": [
       "FoodCourt       2.478373\n",
       "Spa             2.361468\n",
       "Cabin           2.338087\n",
       "ShoppingMall    2.291326\n",
       "Name            2.197802\n",
       "CryoSleep       2.174421\n",
       "VIP             2.174421\n",
       "Destination     2.151040\n",
       "Age             2.127660\n",
       "HomePlanet      2.034136\n",
       "RoomService     1.917232\n",
       "VRDeck          1.870470\n",
       "PassengerId     0.000000\n",
       "dtype: float64"
      ]
     },
     "execution_count": 11,
     "metadata": {},
     "output_type": "execute_result"
    }
   ],
   "source": [
    "(test_df.isnull().sum().sort_values(ascending=False)*100)/len(test_df)"
   ]
  },
  {
   "cell_type": "code",
   "execution_count": 12,
   "id": "13378d45",
   "metadata": {},
   "outputs": [
    {
     "data": {
      "text/plain": [
       "14"
      ]
     },
     "execution_count": 12,
     "metadata": {},
     "output_type": "execute_result"
    }
   ],
   "source": [
    "len(train_df.columns)"
   ]
  },
  {
   "cell_type": "markdown",
   "id": "5c2d3cfd",
   "metadata": {},
   "source": [
    "#### Cryosleep"
   ]
  },
  {
   "cell_type": "code",
   "execution_count": 13,
   "id": "68d49508",
   "metadata": {},
   "outputs": [
    {
     "data": {
      "text/plain": [
       "217"
      ]
     },
     "execution_count": 13,
     "metadata": {},
     "output_type": "execute_result"
    }
   ],
   "source": [
    "pd.isna(train_df['CryoSleep']).sum()"
   ]
  },
  {
   "cell_type": "code",
   "execution_count": 14,
   "id": "477a1d39",
   "metadata": {},
   "outputs": [],
   "source": [
    "cat_columns = ['HomePlanet', 'CryoSleep','Destination','VIP','cabin0', 'cabin_last']"
   ]
  },
  {
   "cell_type": "code",
   "execution_count": 15,
   "id": "38a5da65",
   "metadata": {},
   "outputs": [
    {
     "data": {
      "text/plain": [
       "Index(['PassengerId', 'HomePlanet', 'CryoSleep', 'Cabin', 'Destination', 'Age',\n",
       "       'VIP', 'RoomService', 'FoodCourt', 'ShoppingMall', 'Spa', 'VRDeck',\n",
       "       'Name', 'Transported'],\n",
       "      dtype='object')"
      ]
     },
     "execution_count": 15,
     "metadata": {},
     "output_type": "execute_result"
    }
   ],
   "source": [
    "train_df.columns"
   ]
  },
  {
   "cell_type": "code",
   "execution_count": 16,
   "id": "37562f4b",
   "metadata": {},
   "outputs": [
    {
     "data": {
      "text/html": [
       "<div>\n",
       "<style scoped>\n",
       "    .dataframe tbody tr th:only-of-type {\n",
       "        vertical-align: middle;\n",
       "    }\n",
       "\n",
       "    .dataframe tbody tr th {\n",
       "        vertical-align: top;\n",
       "    }\n",
       "\n",
       "    .dataframe thead th {\n",
       "        text-align: right;\n",
       "    }\n",
       "</style>\n",
       "<table border=\"1\" class=\"dataframe\">\n",
       "  <thead>\n",
       "    <tr style=\"text-align: right;\">\n",
       "      <th></th>\n",
       "      <th>PassengerId</th>\n",
       "      <th>HomePlanet</th>\n",
       "      <th>CryoSleep</th>\n",
       "      <th>Cabin</th>\n",
       "      <th>Destination</th>\n",
       "      <th>Age</th>\n",
       "      <th>VIP</th>\n",
       "      <th>RoomService</th>\n",
       "      <th>FoodCourt</th>\n",
       "      <th>ShoppingMall</th>\n",
       "      <th>Spa</th>\n",
       "      <th>VRDeck</th>\n",
       "      <th>Name</th>\n",
       "      <th>Transported</th>\n",
       "    </tr>\n",
       "  </thead>\n",
       "  <tbody>\n",
       "    <tr>\n",
       "      <th>8688</th>\n",
       "      <td>9276_01</td>\n",
       "      <td>Europa</td>\n",
       "      <td>False</td>\n",
       "      <td>A/98/P</td>\n",
       "      <td>55 Cancri e</td>\n",
       "      <td>41.0</td>\n",
       "      <td>True</td>\n",
       "      <td>0.0</td>\n",
       "      <td>6819.0</td>\n",
       "      <td>0.0</td>\n",
       "      <td>1643.0</td>\n",
       "      <td>74.0</td>\n",
       "      <td>Gravior Noxnuther</td>\n",
       "      <td>False</td>\n",
       "    </tr>\n",
       "    <tr>\n",
       "      <th>8689</th>\n",
       "      <td>9278_01</td>\n",
       "      <td>Earth</td>\n",
       "      <td>True</td>\n",
       "      <td>G/1499/S</td>\n",
       "      <td>PSO J318.5-22</td>\n",
       "      <td>18.0</td>\n",
       "      <td>False</td>\n",
       "      <td>0.0</td>\n",
       "      <td>0.0</td>\n",
       "      <td>0.0</td>\n",
       "      <td>0.0</td>\n",
       "      <td>0.0</td>\n",
       "      <td>Kurta Mondalley</td>\n",
       "      <td>False</td>\n",
       "    </tr>\n",
       "    <tr>\n",
       "      <th>8690</th>\n",
       "      <td>9279_01</td>\n",
       "      <td>Earth</td>\n",
       "      <td>False</td>\n",
       "      <td>G/1500/S</td>\n",
       "      <td>TRAPPIST-1e</td>\n",
       "      <td>26.0</td>\n",
       "      <td>False</td>\n",
       "      <td>0.0</td>\n",
       "      <td>0.0</td>\n",
       "      <td>1872.0</td>\n",
       "      <td>1.0</td>\n",
       "      <td>0.0</td>\n",
       "      <td>Fayey Connon</td>\n",
       "      <td>True</td>\n",
       "    </tr>\n",
       "    <tr>\n",
       "      <th>8691</th>\n",
       "      <td>9280_01</td>\n",
       "      <td>Europa</td>\n",
       "      <td>False</td>\n",
       "      <td>E/608/S</td>\n",
       "      <td>55 Cancri e</td>\n",
       "      <td>32.0</td>\n",
       "      <td>False</td>\n",
       "      <td>0.0</td>\n",
       "      <td>1049.0</td>\n",
       "      <td>0.0</td>\n",
       "      <td>353.0</td>\n",
       "      <td>3235.0</td>\n",
       "      <td>Celeon Hontichre</td>\n",
       "      <td>False</td>\n",
       "    </tr>\n",
       "    <tr>\n",
       "      <th>8692</th>\n",
       "      <td>9280_02</td>\n",
       "      <td>Europa</td>\n",
       "      <td>False</td>\n",
       "      <td>E/608/S</td>\n",
       "      <td>TRAPPIST-1e</td>\n",
       "      <td>44.0</td>\n",
       "      <td>False</td>\n",
       "      <td>126.0</td>\n",
       "      <td>4688.0</td>\n",
       "      <td>0.0</td>\n",
       "      <td>0.0</td>\n",
       "      <td>12.0</td>\n",
       "      <td>Propsh Hontichre</td>\n",
       "      <td>True</td>\n",
       "    </tr>\n",
       "  </tbody>\n",
       "</table>\n",
       "</div>"
      ],
      "text/plain": [
       "     PassengerId HomePlanet CryoSleep     Cabin    Destination   Age    VIP  \\\n",
       "8688     9276_01     Europa     False    A/98/P    55 Cancri e  41.0   True   \n",
       "8689     9278_01      Earth      True  G/1499/S  PSO J318.5-22  18.0  False   \n",
       "8690     9279_01      Earth     False  G/1500/S    TRAPPIST-1e  26.0  False   \n",
       "8691     9280_01     Europa     False   E/608/S    55 Cancri e  32.0  False   \n",
       "8692     9280_02     Europa     False   E/608/S    TRAPPIST-1e  44.0  False   \n",
       "\n",
       "      RoomService  FoodCourt  ShoppingMall     Spa  VRDeck               Name  \\\n",
       "8688          0.0     6819.0           0.0  1643.0    74.0  Gravior Noxnuther   \n",
       "8689          0.0        0.0           0.0     0.0     0.0    Kurta Mondalley   \n",
       "8690          0.0        0.0        1872.0     1.0     0.0       Fayey Connon   \n",
       "8691          0.0     1049.0           0.0   353.0  3235.0   Celeon Hontichre   \n",
       "8692        126.0     4688.0           0.0     0.0    12.0   Propsh Hontichre   \n",
       "\n",
       "      Transported  \n",
       "8688        False  \n",
       "8689        False  \n",
       "8690         True  \n",
       "8691        False  \n",
       "8692         True  "
      ]
     },
     "execution_count": 16,
     "metadata": {},
     "output_type": "execute_result"
    }
   ],
   "source": [
    "train_df.tail()"
   ]
  },
  {
   "cell_type": "code",
   "execution_count": 17,
   "id": "9db30cb4",
   "metadata": {},
   "outputs": [],
   "source": [
    "import pandas as pd\n",
    "import numpy as np\n",
    "from scipy.stats import chi2_contingency\n",
    "\n",
    "def cramers_v(x, y):\n",
    "    crosstab = pd.crosstab(x, y)\n",
    "    chi2_stat, _, _, _ = chi2_contingency(crosstab)\n",
    "    n = crosstab.sum().sum()\n",
    "    k = min(crosstab.shape) - 1\n",
    "    return np.sqrt(chi2_stat / (n * k))\n",
    "\n",
    "def calculate_cramers_v_for_column(df, target_col, cat_cols):\n",
    "    return {\n",
    "        col: cramers_v(df[target_col].dropna(), df[col].dropna())\n",
    "        for col in cat_cols\n",
    "        if col in df.columns\n",
    "    }\n"
   ]
  },
  {
   "cell_type": "code",
   "execution_count": 18,
   "id": "b4c50272",
   "metadata": {},
   "outputs": [],
   "source": [
    "train_df['cabin0'] = train_df['Cabin'].apply(lambda x : str(x).split('/')[0])"
   ]
  },
  {
   "cell_type": "code",
   "execution_count": 19,
   "id": "007844bf",
   "metadata": {},
   "outputs": [
    {
     "data": {
      "text/plain": [
       "cabin0\n",
       "F      2794\n",
       "G      2559\n",
       "E       876\n",
       "B       779\n",
       "C       747\n",
       "D       478\n",
       "A       256\n",
       "nan     199\n",
       "T         5\n",
       "Name: count, dtype: int64"
      ]
     },
     "execution_count": 19,
     "metadata": {},
     "output_type": "execute_result"
    }
   ],
   "source": [
    "train_df['cabin0'].value_counts()"
   ]
  },
  {
   "cell_type": "code",
   "execution_count": 20,
   "id": "35266a8d",
   "metadata": {},
   "outputs": [],
   "source": [
    "train_df['cabin_last'] = train_df['Cabin'].apply(lambda x : str(x).split('/')[-1])"
   ]
  },
  {
   "cell_type": "code",
   "execution_count": 21,
   "id": "9cd5155b",
   "metadata": {},
   "outputs": [
    {
     "data": {
      "text/plain": [
       "cabin_last\n",
       "S      4288\n",
       "P      4206\n",
       "nan     199\n",
       "Name: count, dtype: int64"
      ]
     },
     "execution_count": 21,
     "metadata": {},
     "output_type": "execute_result"
    }
   ],
   "source": [
    "train_df['cabin_last'].value_counts()"
   ]
  },
  {
   "cell_type": "code",
   "execution_count": 22,
   "id": "5c3054eb",
   "metadata": {},
   "outputs": [],
   "source": [
    "train_df.drop('Cabin',axis=1,inplace=True)"
   ]
  },
  {
   "cell_type": "code",
   "execution_count": 23,
   "id": "42aeb5fd",
   "metadata": {},
   "outputs": [],
   "source": [
    "test_df['cabin0'] = test_df['Cabin'].apply(lambda x : str(x).split('/')[0])"
   ]
  },
  {
   "cell_type": "code",
   "execution_count": 24,
   "id": "fe85bcd0",
   "metadata": {},
   "outputs": [],
   "source": [
    "test_df['cabin_last'] = test_df['Cabin'].apply(lambda x : str(x).split('/')[-1])"
   ]
  },
  {
   "cell_type": "code",
   "execution_count": 25,
   "id": "c62ed90e",
   "metadata": {},
   "outputs": [],
   "source": [
    "test_df.drop('Cabin',axis=1,inplace=True)"
   ]
  },
  {
   "cell_type": "code",
   "execution_count": 26,
   "id": "4f90c10a",
   "metadata": {},
   "outputs": [
    {
     "data": {
      "text/plain": [
       "{'HomePlanet': 0.1185870016644907,\n",
       " 'CryoSleep': 0.9997434351825434,\n",
       " 'Destination': 0.12048708822467324,\n",
       " 'VIP': 0.08057355569595007,\n",
       " 'cabin0': 0.3319009184824688,\n",
       " 'cabin_last': 0.03177677229535335}"
      ]
     },
     "execution_count": 26,
     "metadata": {},
     "output_type": "execute_result"
    }
   ],
   "source": [
    "calculate_cramers_v_for_column(train_df,'CryoSleep',cat_columns)"
   ]
  },
  {
   "cell_type": "code",
   "execution_count": 27,
   "id": "2856e688",
   "metadata": {},
   "outputs": [],
   "source": [
    "spend_col = ['RoomService', 'FoodCourt', 'ShoppingMall', 'Spa', 'VRDeck']\n",
    "train_df['Total_spending'] = 0\n",
    "test_df['Total_spending'] = 0\n",
    "for col in spend_col:\n",
    "    train_df['Total_spending'] = train_df['Total_spending'] + train_df[col].fillna(0)\n",
    "    test_df['Total_spending'] = test_df['Total_spending'] + test_df[col].fillna(0)"
   ]
  },
  {
   "cell_type": "code",
   "execution_count": 28,
   "id": "ecfde61b",
   "metadata": {},
   "outputs": [
    {
     "data": {
      "text/html": [
       "<div>\n",
       "<style scoped>\n",
       "    .dataframe tbody tr th:only-of-type {\n",
       "        vertical-align: middle;\n",
       "    }\n",
       "\n",
       "    .dataframe tbody tr th {\n",
       "        vertical-align: top;\n",
       "    }\n",
       "\n",
       "    .dataframe thead th {\n",
       "        text-align: right;\n",
       "    }\n",
       "</style>\n",
       "<table border=\"1\" class=\"dataframe\">\n",
       "  <thead>\n",
       "    <tr style=\"text-align: right;\">\n",
       "      <th></th>\n",
       "      <th>count</th>\n",
       "      <th>mean</th>\n",
       "      <th>std</th>\n",
       "      <th>min</th>\n",
       "      <th>25%</th>\n",
       "      <th>50%</th>\n",
       "      <th>75%</th>\n",
       "      <th>max</th>\n",
       "    </tr>\n",
       "    <tr>\n",
       "      <th>CryoSleep</th>\n",
       "      <th></th>\n",
       "      <th></th>\n",
       "      <th></th>\n",
       "      <th></th>\n",
       "      <th></th>\n",
       "      <th></th>\n",
       "      <th></th>\n",
       "      <th></th>\n",
       "    </tr>\n",
       "  </thead>\n",
       "  <tbody>\n",
       "    <tr>\n",
       "      <th>False</th>\n",
       "      <td>5439.0</td>\n",
       "      <td>2248.299687</td>\n",
       "      <td>3245.061489</td>\n",
       "      <td>0.0</td>\n",
       "      <td>746.0</td>\n",
       "      <td>1019.0</td>\n",
       "      <td>2416.0</td>\n",
       "      <td>35987.0</td>\n",
       "    </tr>\n",
       "    <tr>\n",
       "      <th>True</th>\n",
       "      <td>3037.0</td>\n",
       "      <td>0.000000</td>\n",
       "      <td>0.000000</td>\n",
       "      <td>0.0</td>\n",
       "      <td>0.0</td>\n",
       "      <td>0.0</td>\n",
       "      <td>0.0</td>\n",
       "      <td>0.0</td>\n",
       "    </tr>\n",
       "  </tbody>\n",
       "</table>\n",
       "</div>"
      ],
      "text/plain": [
       "            count         mean          std  min    25%     50%     75%  \\\n",
       "CryoSleep                                                                 \n",
       "False      5439.0  2248.299687  3245.061489  0.0  746.0  1019.0  2416.0   \n",
       "True       3037.0     0.000000     0.000000  0.0    0.0     0.0     0.0   \n",
       "\n",
       "               max  \n",
       "CryoSleep           \n",
       "False      35987.0  \n",
       "True           0.0  "
      ]
     },
     "execution_count": 28,
     "metadata": {},
     "output_type": "execute_result"
    }
   ],
   "source": [
    "train_df.groupby('CryoSleep').describe()['Total_spending']"
   ]
  },
  {
   "cell_type": "code",
   "execution_count": 29,
   "id": "6b961a45",
   "metadata": {},
   "outputs": [],
   "source": [
    "#total spending for cryosleep is zero\n",
    "def fill_cryo(cols):\n",
    "    cryo = cols[0]\n",
    "    total = cols[1]\n",
    "    if pd.isna(cryo) == True:\n",
    "        if total == 0:\n",
    "            return 1\n",
    "        else:\n",
    "            return 0\n",
    "    else:\n",
    "        return cryo\n",
    "train_df['CryoSleep'] = train_df[['CryoSleep','Total_spending']].apply(fill_cryo,axis=1)\n",
    "test_df['CryoSleep'] = test_df[['CryoSleep','Total_spending']].apply(fill_cryo,axis=1)"
   ]
  },
  {
   "cell_type": "code",
   "execution_count": 30,
   "id": "7b0862cb",
   "metadata": {},
   "outputs": [],
   "source": [
    "train_df['CryoSleep'] = train_df['CryoSleep'].apply(lambda x : 0 if x == False else 1)"
   ]
  },
  {
   "cell_type": "code",
   "execution_count": 31,
   "id": "642d262b",
   "metadata": {},
   "outputs": [
    {
     "data": {
      "text/plain": [
       "ShoppingMall      4.863222\n",
       "VIP               4.746318\n",
       "HomePlanet        4.699556\n",
       "Name              4.676175\n",
       "VRDeck            4.395604\n",
       "FoodCourt         4.278700\n",
       "Spa               4.278700\n",
       "Destination       4.255319\n",
       "RoomService       4.231938\n",
       "Age               4.185177\n",
       "PassengerId       0.000000\n",
       "CryoSleep         0.000000\n",
       "Transported       0.000000\n",
       "cabin0            0.000000\n",
       "cabin_last        0.000000\n",
       "Total_spending    0.000000\n",
       "dtype: float64"
      ]
     },
     "execution_count": 31,
     "metadata": {},
     "output_type": "execute_result"
    }
   ],
   "source": [
    "(train_df.isnull().sum().sort_values(ascending=False)*100)/len(test_df)"
   ]
  },
  {
   "cell_type": "code",
   "execution_count": 32,
   "id": "c76a5694",
   "metadata": {},
   "outputs": [
    {
     "data": {
      "text/plain": [
       "FoodCourt         2.478373\n",
       "Spa               2.361468\n",
       "ShoppingMall      2.291326\n",
       "Name              2.197802\n",
       "VIP               2.174421\n",
       "Destination       2.151040\n",
       "Age               2.127660\n",
       "HomePlanet        2.034136\n",
       "RoomService       1.917232\n",
       "VRDeck            1.870470\n",
       "PassengerId       0.000000\n",
       "CryoSleep         0.000000\n",
       "cabin0            0.000000\n",
       "cabin_last        0.000000\n",
       "Total_spending    0.000000\n",
       "dtype: float64"
      ]
     },
     "execution_count": 32,
     "metadata": {},
     "output_type": "execute_result"
    }
   ],
   "source": [
    "(test_df.isnull().sum().sort_values(ascending=False)*100)/len(test_df)"
   ]
  },
  {
   "cell_type": "code",
   "execution_count": 33,
   "id": "bf310670",
   "metadata": {},
   "outputs": [
    {
     "data": {
      "text/plain": [
       "CryoSleep\n",
       "0    5558\n",
       "1    3135\n",
       "Name: count, dtype: int64"
      ]
     },
     "execution_count": 33,
     "metadata": {},
     "output_type": "execute_result"
    }
   ],
   "source": [
    "train_df['CryoSleep'].value_counts()"
   ]
  },
  {
   "cell_type": "code",
   "execution_count": 34,
   "id": "9ce98e0c",
   "metadata": {},
   "outputs": [
    {
     "data": {
      "text/plain": [
       "HomePlanet\n",
       "Earth     4602\n",
       "Europa    2131\n",
       "Mars      1759\n",
       "Name: count, dtype: int64"
      ]
     },
     "execution_count": 34,
     "metadata": {},
     "output_type": "execute_result"
    }
   ],
   "source": [
    "#homeplanet\n",
    "train_df['HomePlanet'].value_counts()"
   ]
  },
  {
   "cell_type": "code",
   "execution_count": 35,
   "id": "d67afffd",
   "metadata": {},
   "outputs": [
    {
     "data": {
      "text/plain": [
       "{'HomePlanet': 1.0,\n",
       " 'CryoSleep': 0.1180558189771168,\n",
       " 'Destination': 0.26231801736986216,\n",
       " 'VIP': 0.177794571254956,\n",
       " 'cabin0': 0.7441945829669705,\n",
       " 'cabin_last': 0.03262166539106222}"
      ]
     },
     "execution_count": 35,
     "metadata": {},
     "output_type": "execute_result"
    }
   ],
   "source": [
    "calculate_cramers_v_for_column(train_df,'HomePlanet',cat_columns)"
   ]
  },
  {
   "cell_type": "code",
   "execution_count": 36,
   "id": "573c6cbd",
   "metadata": {},
   "outputs": [
    {
     "data": {
      "text/plain": [
       "{'HomePlanet': 0.7441945829669705,\n",
       " 'CryoSleep': 0.33114461932761724,\n",
       " 'Destination': 0.24435220827830434,\n",
       " 'VIP': 0.19840766962927114,\n",
       " 'cabin0': 1.0,\n",
       " 'cabin_last': 0.7078918285534208}"
      ]
     },
     "execution_count": 36,
     "metadata": {},
     "output_type": "execute_result"
    }
   ],
   "source": [
    "calculate_cramers_v_for_column(train_df,'cabin0',cat_columns)"
   ]
  },
  {
   "cell_type": "code",
   "execution_count": 37,
   "id": "72d6faba",
   "metadata": {
    "scrolled": true
   },
   "outputs": [
    {
     "data": {
      "text/plain": [
       "HomePlanet  cabin0\n",
       "Earth       G         2498\n",
       "            F         1614\n",
       "            E          395\n",
       "            nan         95\n",
       "Europa      B          766\n",
       "            C          734\n",
       "            A          252\n",
       "            D          186\n",
       "            E          128\n",
       "            nan         61\n",
       "            T            4\n",
       "Mars        F         1110\n",
       "            E          330\n",
       "            D          282\n",
       "            nan         37\n",
       "Name: count, dtype: int64"
      ]
     },
     "execution_count": 37,
     "metadata": {},
     "output_type": "execute_result"
    }
   ],
   "source": [
    "train_df.groupby('HomePlanet')['cabin0'].value_counts()"
   ]
  },
  {
   "cell_type": "code",
   "execution_count": 38,
   "id": "817a7263",
   "metadata": {},
   "outputs": [],
   "source": [
    "def fill_home(cols):\n",
    "    home = cols[0]\n",
    "    cabin = cols[1]\n",
    "    if pd.isna(home) == True:\n",
    "        if cabin in ['G','F']:\n",
    "            return 'Earth'\n",
    "        elif cabin in ['B','C','A']:\n",
    "            return 'Europa'\n",
    "        elif cabin in ['D','E']:\n",
    "            return 'Mars'\n",
    "        else:\n",
    "            return \"Earth\"\n",
    "    else: \n",
    "        return home\n",
    "        "
   ]
  },
  {
   "cell_type": "code",
   "execution_count": 39,
   "id": "3a942488",
   "metadata": {},
   "outputs": [],
   "source": [
    "train_df['HomePlanet'] = train_df[['HomePlanet','cabin0']].apply(fill_home,axis=1)\n",
    "test_df['HomePlanet'] = test_df[['HomePlanet','cabin0']].apply(fill_home,axis=1)"
   ]
  },
  {
   "cell_type": "code",
   "execution_count": 40,
   "id": "df911cff",
   "metadata": {},
   "outputs": [
    {
     "data": {
      "text/plain": [
       "ShoppingMall      4.863222\n",
       "VIP               4.746318\n",
       "Name              4.676175\n",
       "VRDeck            4.395604\n",
       "FoodCourt         4.278700\n",
       "Spa               4.278700\n",
       "Destination       4.255319\n",
       "RoomService       4.231938\n",
       "Age               4.185177\n",
       "PassengerId       0.000000\n",
       "HomePlanet        0.000000\n",
       "CryoSleep         0.000000\n",
       "Transported       0.000000\n",
       "cabin0            0.000000\n",
       "cabin_last        0.000000\n",
       "Total_spending    0.000000\n",
       "dtype: float64"
      ]
     },
     "execution_count": 40,
     "metadata": {},
     "output_type": "execute_result"
    }
   ],
   "source": [
    "(train_df.isnull().sum().sort_values(ascending=False)*100)/len(test_df)"
   ]
  },
  {
   "cell_type": "code",
   "execution_count": 41,
   "id": "f11719e0",
   "metadata": {},
   "outputs": [
    {
     "data": {
      "text/plain": [
       "FoodCourt         2.478373\n",
       "Spa               2.361468\n",
       "ShoppingMall      2.291326\n",
       "Name              2.197802\n",
       "VIP               2.174421\n",
       "Destination       2.151040\n",
       "Age               2.127660\n",
       "RoomService       1.917232\n",
       "VRDeck            1.870470\n",
       "PassengerId       0.000000\n",
       "HomePlanet        0.000000\n",
       "CryoSleep         0.000000\n",
       "cabin0            0.000000\n",
       "cabin_last        0.000000\n",
       "Total_spending    0.000000\n",
       "dtype: float64"
      ]
     },
     "execution_count": 41,
     "metadata": {},
     "output_type": "execute_result"
    }
   ],
   "source": [
    "(test_df.isnull().sum().sort_values(ascending=False)*100)/len(test_df)"
   ]
  },
  {
   "cell_type": "markdown",
   "id": "e353e594",
   "metadata": {},
   "source": [
    "### Drop name column"
   ]
  },
  {
   "cell_type": "code",
   "execution_count": 42,
   "id": "118afc6e",
   "metadata": {},
   "outputs": [],
   "source": [
    "train_df.drop('Name',axis=1,inplace=True)\n",
    "test_df.drop('Name',axis=1,inplace=True)"
   ]
  },
  {
   "cell_type": "code",
   "execution_count": 43,
   "id": "aae7de6f",
   "metadata": {},
   "outputs": [
    {
     "data": {
      "text/plain": [
       "ShoppingMall      4.863222\n",
       "VIP               4.746318\n",
       "VRDeck            4.395604\n",
       "FoodCourt         4.278700\n",
       "Spa               4.278700\n",
       "Destination       4.255319\n",
       "RoomService       4.231938\n",
       "Age               4.185177\n",
       "PassengerId       0.000000\n",
       "HomePlanet        0.000000\n",
       "CryoSleep         0.000000\n",
       "Transported       0.000000\n",
       "cabin0            0.000000\n",
       "cabin_last        0.000000\n",
       "Total_spending    0.000000\n",
       "dtype: float64"
      ]
     },
     "execution_count": 43,
     "metadata": {},
     "output_type": "execute_result"
    }
   ],
   "source": [
    "(train_df.isnull().sum().sort_values(ascending=False)*100)/len(test_df)"
   ]
  },
  {
   "cell_type": "code",
   "execution_count": 44,
   "id": "cc33b35a",
   "metadata": {},
   "outputs": [
    {
     "data": {
      "text/plain": [
       "FoodCourt         2.478373\n",
       "Spa               2.361468\n",
       "ShoppingMall      2.291326\n",
       "VIP               2.174421\n",
       "Destination       2.151040\n",
       "Age               2.127660\n",
       "RoomService       1.917232\n",
       "VRDeck            1.870470\n",
       "PassengerId       0.000000\n",
       "HomePlanet        0.000000\n",
       "CryoSleep         0.000000\n",
       "cabin0            0.000000\n",
       "cabin_last        0.000000\n",
       "Total_spending    0.000000\n",
       "dtype: float64"
      ]
     },
     "execution_count": 44,
     "metadata": {},
     "output_type": "execute_result"
    }
   ],
   "source": [
    "(test_df.isnull().sum().sort_values(ascending=False)*100)/len(test_df)"
   ]
  },
  {
   "cell_type": "code",
   "execution_count": 45,
   "id": "cc3d12f5",
   "metadata": {},
   "outputs": [
    {
     "data": {
      "text/plain": [
       "RoomService     0.152692\n",
       "FoodCourt       0.311225\n",
       "ShoppingMall    0.117688\n",
       "Spa             0.211393\n",
       "VRDeck          0.207002\n",
       "dtype: float64"
      ]
     },
     "execution_count": 45,
     "metadata": {},
     "output_type": "execute_result"
    }
   ],
   "source": [
    "#spending patterns\n",
    "train_df[['RoomService', 'FoodCourt', 'ShoppingMall', 'Spa', 'VRDeck']].sum()/train_df['Total_spending'].sum()"
   ]
  },
  {
   "cell_type": "code",
   "execution_count": 46,
   "id": "9b44f952",
   "metadata": {},
   "outputs": [
    {
     "data": {
      "text/plain": [
       "0"
      ]
     },
     "execution_count": 46,
     "metadata": {},
     "output_type": "execute_result"
    }
   ],
   "source": [
    "train_df['Total_spending'].isna().sum()"
   ]
  },
  {
   "cell_type": "code",
   "execution_count": 47,
   "id": "2cd6fc4b",
   "metadata": {},
   "outputs": [],
   "source": [
    "#filling RoomService\n",
    "def fill_room(cols):\n",
    "    room = cols[0]\n",
    "    total = cols[1]\n",
    "    if pd.isna(room) == True:\n",
    "        return 0.15 * (total + total*0.15)\n",
    "    else:\n",
    "        return room\n",
    "train_df['RoomService'] = train_df[['RoomService','Total_spending']].apply(fill_room,axis=1)\n",
    "test_df['RoomService'] = test_df[['RoomService','Total_spending']].apply(fill_room,axis=1)"
   ]
  },
  {
   "cell_type": "code",
   "execution_count": 48,
   "id": "0e2e83db",
   "metadata": {},
   "outputs": [
    {
     "data": {
      "text/plain": [
       "ShoppingMall      4.863222\n",
       "VIP               4.746318\n",
       "VRDeck            4.395604\n",
       "FoodCourt         4.278700\n",
       "Spa               4.278700\n",
       "Destination       4.255319\n",
       "Age               4.185177\n",
       "PassengerId       0.000000\n",
       "HomePlanet        0.000000\n",
       "CryoSleep         0.000000\n",
       "RoomService       0.000000\n",
       "Transported       0.000000\n",
       "cabin0            0.000000\n",
       "cabin_last        0.000000\n",
       "Total_spending    0.000000\n",
       "dtype: float64"
      ]
     },
     "execution_count": 48,
     "metadata": {},
     "output_type": "execute_result"
    }
   ],
   "source": [
    "(train_df.isnull().sum().sort_values(ascending=False)*100)/len(test_df)"
   ]
  },
  {
   "cell_type": "code",
   "execution_count": 49,
   "id": "0031e433",
   "metadata": {},
   "outputs": [
    {
     "data": {
      "text/plain": [
       "FoodCourt         2.478373\n",
       "Spa               2.361468\n",
       "ShoppingMall      2.291326\n",
       "VIP               2.174421\n",
       "Destination       2.151040\n",
       "Age               2.127660\n",
       "VRDeck            1.870470\n",
       "PassengerId       0.000000\n",
       "HomePlanet        0.000000\n",
       "CryoSleep         0.000000\n",
       "RoomService       0.000000\n",
       "cabin0            0.000000\n",
       "cabin_last        0.000000\n",
       "Total_spending    0.000000\n",
       "dtype: float64"
      ]
     },
     "execution_count": 49,
     "metadata": {},
     "output_type": "execute_result"
    }
   ],
   "source": [
    "(test_df.isnull().sum().sort_values(ascending=False)*100)/len(test_df)"
   ]
  },
  {
   "cell_type": "code",
   "execution_count": 50,
   "id": "9f14f78f",
   "metadata": {},
   "outputs": [],
   "source": [
    "def fill_shop(cols):\n",
    "    shop = cols[0]\n",
    "    total = cols[1]\n",
    "    if pd.isna(shop) == True:\n",
    "        return 0.117 * (total + total*0.117)\n",
    "    else:\n",
    "        return shop\n",
    "train_df['ShoppingMall'] = train_df[['ShoppingMall','Total_spending']].apply(fill_shop,axis=1)\n",
    "test_df['ShoppingMall'] = test_df[['ShoppingMall','Total_spending']].apply(fill_shop,axis=1)"
   ]
  },
  {
   "cell_type": "code",
   "execution_count": 51,
   "id": "ae81c646",
   "metadata": {},
   "outputs": [],
   "source": [
    "def fill_food(cols):\n",
    "    food = cols[0]\n",
    "    total = cols[1]\n",
    "    if pd.isna(food) == True:\n",
    "        return 0.311 * (total + total*0.311)\n",
    "    else:\n",
    "        return food\n",
    "train_df['FoodCourt'] = train_df[['FoodCourt','Total_spending']].apply(fill_food,axis=1)\n",
    "test_df['FoodCourt'] = test_df[['FoodCourt','Total_spending']].apply(fill_food,axis=1)"
   ]
  },
  {
   "cell_type": "code",
   "execution_count": 52,
   "id": "f2f7f021",
   "metadata": {},
   "outputs": [],
   "source": [
    "def fill_spa(cols):\n",
    "    spa = cols[0]\n",
    "    total = cols[1]\n",
    "    if pd.isna(spa) == True:\n",
    "        return 0.211 * (total + total*0.211)\n",
    "    else:\n",
    "        return spa\n",
    "train_df['Spa'] = train_df[['Spa','Total_spending']].apply(fill_spa,axis=1)\n",
    "test_df['Spa'] = test_df[['Spa','Total_spending']].apply(fill_spa,axis=1)"
   ]
  },
  {
   "cell_type": "code",
   "execution_count": 53,
   "id": "9a7db0ac",
   "metadata": {},
   "outputs": [],
   "source": [
    "def fill_vr(cols):\n",
    "    vr = cols[0]\n",
    "    total = cols[1]\n",
    "    if pd.isna(vr) == True:\n",
    "        return 0.207 * (total + total*0.207)\n",
    "    else:\n",
    "        return vr\n",
    "train_df['VRDeck'] = train_df[['VRDeck','Total_spending']].apply(fill_vr,axis=1)\n",
    "test_df['VRDeck'] = test_df[['VRDeck','Total_spending']].apply(fill_vr,axis=1)"
   ]
  },
  {
   "cell_type": "code",
   "execution_count": 54,
   "id": "d0824233",
   "metadata": {},
   "outputs": [
    {
     "data": {
      "text/plain": [
       "VIP               2.335212\n",
       "Destination       2.093639\n",
       "Age               2.059128\n",
       "PassengerId       0.000000\n",
       "HomePlanet        0.000000\n",
       "CryoSleep         0.000000\n",
       "RoomService       0.000000\n",
       "FoodCourt         0.000000\n",
       "ShoppingMall      0.000000\n",
       "Spa               0.000000\n",
       "VRDeck            0.000000\n",
       "Transported       0.000000\n",
       "cabin0            0.000000\n",
       "cabin_last        0.000000\n",
       "Total_spending    0.000000\n",
       "dtype: float64"
      ]
     },
     "execution_count": 54,
     "metadata": {},
     "output_type": "execute_result"
    }
   ],
   "source": [
    "(train_df.isnull().sum().sort_values(ascending=False)*100)/len(train_df)"
   ]
  },
  {
   "cell_type": "code",
   "execution_count": 55,
   "id": "fd33b45c",
   "metadata": {},
   "outputs": [
    {
     "data": {
      "text/plain": [
       "VIP               2.174421\n",
       "Destination       2.151040\n",
       "Age               2.127660\n",
       "PassengerId       0.000000\n",
       "HomePlanet        0.000000\n",
       "CryoSleep         0.000000\n",
       "RoomService       0.000000\n",
       "FoodCourt         0.000000\n",
       "ShoppingMall      0.000000\n",
       "Spa               0.000000\n",
       "VRDeck            0.000000\n",
       "cabin0            0.000000\n",
       "cabin_last        0.000000\n",
       "Total_spending    0.000000\n",
       "dtype: float64"
      ]
     },
     "execution_count": 55,
     "metadata": {},
     "output_type": "execute_result"
    }
   ],
   "source": [
    "(test_df.isnull().sum().sort_values(ascending=False)*100)/len(test_df)"
   ]
  },
  {
   "cell_type": "code",
   "execution_count": 56,
   "id": "78170d20",
   "metadata": {},
   "outputs": [
    {
     "data": {
      "text/html": [
       "<div>\n",
       "<style scoped>\n",
       "    .dataframe tbody tr th:only-of-type {\n",
       "        vertical-align: middle;\n",
       "    }\n",
       "\n",
       "    .dataframe tbody tr th {\n",
       "        vertical-align: top;\n",
       "    }\n",
       "\n",
       "    .dataframe thead th {\n",
       "        text-align: right;\n",
       "    }\n",
       "</style>\n",
       "<table border=\"1\" class=\"dataframe\">\n",
       "  <thead>\n",
       "    <tr style=\"text-align: right;\">\n",
       "      <th></th>\n",
       "      <th>count</th>\n",
       "      <th>mean</th>\n",
       "      <th>std</th>\n",
       "      <th>min</th>\n",
       "      <th>25%</th>\n",
       "      <th>50%</th>\n",
       "      <th>75%</th>\n",
       "      <th>max</th>\n",
       "    </tr>\n",
       "    <tr>\n",
       "      <th>VIP</th>\n",
       "      <th></th>\n",
       "      <th></th>\n",
       "      <th></th>\n",
       "      <th></th>\n",
       "      <th></th>\n",
       "      <th></th>\n",
       "      <th></th>\n",
       "      <th></th>\n",
       "    </tr>\n",
       "  </thead>\n",
       "  <tbody>\n",
       "    <tr>\n",
       "      <th>False</th>\n",
       "      <td>8291.0</td>\n",
       "      <td>1371.504644</td>\n",
       "      <td>2683.701966</td>\n",
       "      <td>0.0</td>\n",
       "      <td>0.0</td>\n",
       "      <td>705.0</td>\n",
       "      <td>1369.0</td>\n",
       "      <td>35987.0</td>\n",
       "    </tr>\n",
       "    <tr>\n",
       "      <th>True</th>\n",
       "      <td>199.0</td>\n",
       "      <td>4425.477387</td>\n",
       "      <td>5121.300417</td>\n",
       "      <td>0.0</td>\n",
       "      <td>1281.0</td>\n",
       "      <td>2767.0</td>\n",
       "      <td>6120.5</td>\n",
       "      <td>31076.0</td>\n",
       "    </tr>\n",
       "  </tbody>\n",
       "</table>\n",
       "</div>"
      ],
      "text/plain": [
       "        count         mean          std  min     25%     50%     75%      max\n",
       "VIP                                                                          \n",
       "False  8291.0  1371.504644  2683.701966  0.0     0.0   705.0  1369.0  35987.0\n",
       "True    199.0  4425.477387  5121.300417  0.0  1281.0  2767.0  6120.5  31076.0"
      ]
     },
     "execution_count": 56,
     "metadata": {},
     "output_type": "execute_result"
    }
   ],
   "source": [
    "train_df.groupby('VIP')['Total_spending'].describe()"
   ]
  },
  {
   "cell_type": "code",
   "execution_count": 57,
   "id": "dcf70fb6",
   "metadata": {},
   "outputs": [],
   "source": [
    "def fill_vip(cols):\n",
    "    vip = cols[0]\n",
    "    total = cols[1]\n",
    "    if pd.isna(vip) == True:\n",
    "        if total > 1371:\n",
    "            return True\n",
    "        else:\n",
    "            return False\n",
    "    else:\n",
    "        return vip\n",
    "train_df['VIP'] = train_df[['VIP','Total_spending']].apply(fill_vip,axis=1)\n",
    "test_df['VIP'] = test_df[['VIP','Total_spending']].apply(fill_vip,axis=1)"
   ]
  },
  {
   "cell_type": "code",
   "execution_count": 58,
   "id": "c21ad9d3",
   "metadata": {},
   "outputs": [
    {
     "data": {
      "text/plain": [
       "{'HomePlanet': 0.2603698247331967,\n",
       " 'CryoSleep': 0.11779366835041104,\n",
       " 'Destination': 1.0,\n",
       " 'VIP': 0.04308491808222061,\n",
       " 'cabin0': 0.24435220827830434,\n",
       " 'cabin_last': 0.015513976300882863}"
      ]
     },
     "execution_count": 58,
     "metadata": {},
     "output_type": "execute_result"
    }
   ],
   "source": [
    "calculate_cramers_v_for_column(train_df,'Destination',cat_columns)"
   ]
  },
  {
   "cell_type": "code",
   "execution_count": 59,
   "id": "dcd17170",
   "metadata": {},
   "outputs": [
    {
     "data": {
      "text/plain": [
       "Destination\n",
       "TRAPPIST-1e      5915\n",
       "55 Cancri e      1800\n",
       "PSO J318.5-22     796\n",
       "Name: count, dtype: int64"
      ]
     },
     "execution_count": 59,
     "metadata": {},
     "output_type": "execute_result"
    }
   ],
   "source": [
    "train_df['Destination'].value_counts()"
   ]
  },
  {
   "cell_type": "code",
   "execution_count": 60,
   "id": "cc849b66",
   "metadata": {},
   "outputs": [
    {
     "data": {
      "text/html": [
       "<div>\n",
       "<style scoped>\n",
       "    .dataframe tbody tr th:only-of-type {\n",
       "        vertical-align: middle;\n",
       "    }\n",
       "\n",
       "    .dataframe tbody tr th {\n",
       "        vertical-align: top;\n",
       "    }\n",
       "\n",
       "    .dataframe thead th {\n",
       "        text-align: right;\n",
       "    }\n",
       "</style>\n",
       "<table border=\"1\" class=\"dataframe\">\n",
       "  <thead>\n",
       "    <tr style=\"text-align: right;\">\n",
       "      <th></th>\n",
       "      <th>count</th>\n",
       "      <th>mean</th>\n",
       "      <th>std</th>\n",
       "      <th>min</th>\n",
       "      <th>25%</th>\n",
       "      <th>50%</th>\n",
       "      <th>75%</th>\n",
       "      <th>max</th>\n",
       "    </tr>\n",
       "    <tr>\n",
       "      <th>Destination</th>\n",
       "      <th></th>\n",
       "      <th></th>\n",
       "      <th></th>\n",
       "      <th></th>\n",
       "      <th></th>\n",
       "      <th></th>\n",
       "      <th></th>\n",
       "      <th></th>\n",
       "    </tr>\n",
       "  </thead>\n",
       "  <tbody>\n",
       "    <tr>\n",
       "      <th>55 Cancri e</th>\n",
       "      <td>1800.0</td>\n",
       "      <td>2180.285556</td>\n",
       "      <td>4127.763636</td>\n",
       "      <td>0.0</td>\n",
       "      <td>0.0</td>\n",
       "      <td>619.5</td>\n",
       "      <td>2610.25</td>\n",
       "      <td>35987.0</td>\n",
       "    </tr>\n",
       "    <tr>\n",
       "      <th>PSO J318.5-22</th>\n",
       "      <td>796.0</td>\n",
       "      <td>572.315327</td>\n",
       "      <td>1161.328235</td>\n",
       "      <td>0.0</td>\n",
       "      <td>0.0</td>\n",
       "      <td>0.0</td>\n",
       "      <td>752.25</td>\n",
       "      <td>18692.0</td>\n",
       "    </tr>\n",
       "    <tr>\n",
       "      <th>TRAPPIST-1e</th>\n",
       "      <td>5915.0</td>\n",
       "      <td>1338.339983</td>\n",
       "      <td>2397.881512</td>\n",
       "      <td>0.0</td>\n",
       "      <td>0.0</td>\n",
       "      <td>787.0</td>\n",
       "      <td>1449.00</td>\n",
       "      <td>30478.0</td>\n",
       "    </tr>\n",
       "  </tbody>\n",
       "</table>\n",
       "</div>"
      ],
      "text/plain": [
       "                count         mean          std  min  25%    50%      75%  \\\n",
       "Destination                                                                 \n",
       "55 Cancri e    1800.0  2180.285556  4127.763636  0.0  0.0  619.5  2610.25   \n",
       "PSO J318.5-22   796.0   572.315327  1161.328235  0.0  0.0    0.0   752.25   \n",
       "TRAPPIST-1e    5915.0  1338.339983  2397.881512  0.0  0.0  787.0  1449.00   \n",
       "\n",
       "                   max  \n",
       "Destination             \n",
       "55 Cancri e    35987.0  \n",
       "PSO J318.5-22  18692.0  \n",
       "TRAPPIST-1e    30478.0  "
      ]
     },
     "execution_count": 60,
     "metadata": {},
     "output_type": "execute_result"
    }
   ],
   "source": [
    "train_df.groupby('Destination')['Total_spending'].describe()"
   ]
  },
  {
   "cell_type": "code",
   "execution_count": 61,
   "id": "1b52f19f",
   "metadata": {},
   "outputs": [],
   "source": [
    "def fill_dest(cols):\n",
    "    dest = cols[0]\n",
    "    total = cols[1]\n",
    "    if pd.isna(dest) == True:\n",
    "        if total < 796.0:\n",
    "            return 'PSO J318.5-22'\n",
    "        elif total in range(796,5815) :\n",
    "            return '55 Cancri e'\n",
    "        else:\n",
    "            return 'TRAPPIST-1e'\n",
    "    else:\n",
    "        return dest\n",
    "train_df['Destination'] = train_df[['Destination','Total_spending']].apply(fill_dest,axis=1)\n",
    "test_df['Destination'] = test_df[['Destination','Total_spending']].apply(fill_dest,axis=1)"
   ]
  },
  {
   "cell_type": "code",
   "execution_count": 62,
   "id": "34692c6d",
   "metadata": {},
   "outputs": [],
   "source": [
    "train_df['Age'] = train_df['Age'].fillna(train_df['Age'].mean())"
   ]
  },
  {
   "cell_type": "code",
   "execution_count": 63,
   "id": "81052a14",
   "metadata": {},
   "outputs": [],
   "source": [
    "test_df['Age'] = test_df['Age'].fillna(test_df['Age'].mean())"
   ]
  },
  {
   "cell_type": "code",
   "execution_count": 64,
   "id": "4c34c738",
   "metadata": {},
   "outputs": [
    {
     "data": {
      "text/plain": [
       "PassengerId       0.0\n",
       "HomePlanet        0.0\n",
       "CryoSleep         0.0\n",
       "Destination       0.0\n",
       "Age               0.0\n",
       "VIP               0.0\n",
       "RoomService       0.0\n",
       "FoodCourt         0.0\n",
       "ShoppingMall      0.0\n",
       "Spa               0.0\n",
       "VRDeck            0.0\n",
       "Transported       0.0\n",
       "cabin0            0.0\n",
       "cabin_last        0.0\n",
       "Total_spending    0.0\n",
       "dtype: float64"
      ]
     },
     "execution_count": 64,
     "metadata": {},
     "output_type": "execute_result"
    }
   ],
   "source": [
    "(train_df.isnull().sum().sort_values(ascending=False)*100)/len(train_df)"
   ]
  },
  {
   "cell_type": "code",
   "execution_count": 65,
   "id": "53b8f77c",
   "metadata": {},
   "outputs": [
    {
     "data": {
      "text/plain": [
       "PassengerId       0.0\n",
       "HomePlanet        0.0\n",
       "CryoSleep         0.0\n",
       "Destination       0.0\n",
       "Age               0.0\n",
       "VIP               0.0\n",
       "RoomService       0.0\n",
       "FoodCourt         0.0\n",
       "ShoppingMall      0.0\n",
       "Spa               0.0\n",
       "VRDeck            0.0\n",
       "cabin0            0.0\n",
       "cabin_last        0.0\n",
       "Total_spending    0.0\n",
       "dtype: float64"
      ]
     },
     "execution_count": 65,
     "metadata": {},
     "output_type": "execute_result"
    }
   ],
   "source": [
    "(test_df.isnull().sum().sort_values(ascending=False)*100)/len(test_df)"
   ]
  },
  {
   "cell_type": "code",
   "execution_count": 66,
   "id": "cdada4a9",
   "metadata": {},
   "outputs": [],
   "source": [
    "#updating total spending\n",
    "spend_col = ['RoomService', 'FoodCourt', 'ShoppingMall', 'Spa', 'VRDeck']\n",
    "train_df['Total_spending'] = 0\n",
    "test_df['Total_spending'] = 0\n",
    "for col in spend_col:\n",
    "    train_df['Total_spending'] = train_df['Total_spending'] + train_df[col].fillna(0)\n",
    "    test_df['Total_spending'] = test_df['Total_spending'] + test_df[col].fillna(0)"
   ]
  },
  {
   "cell_type": "code",
   "execution_count": 67,
   "id": "6156b07b",
   "metadata": {},
   "outputs": [
    {
     "data": {
      "text/html": [
       "<div>\n",
       "<style scoped>\n",
       "    .dataframe tbody tr th:only-of-type {\n",
       "        vertical-align: middle;\n",
       "    }\n",
       "\n",
       "    .dataframe tbody tr th {\n",
       "        vertical-align: top;\n",
       "    }\n",
       "\n",
       "    .dataframe thead th {\n",
       "        text-align: right;\n",
       "    }\n",
       "</style>\n",
       "<table border=\"1\" class=\"dataframe\">\n",
       "  <thead>\n",
       "    <tr style=\"text-align: right;\">\n",
       "      <th></th>\n",
       "      <th>PassengerId</th>\n",
       "      <th>HomePlanet</th>\n",
       "      <th>CryoSleep</th>\n",
       "      <th>Destination</th>\n",
       "      <th>Age</th>\n",
       "      <th>VIP</th>\n",
       "      <th>RoomService</th>\n",
       "      <th>FoodCourt</th>\n",
       "      <th>ShoppingMall</th>\n",
       "      <th>Spa</th>\n",
       "      <th>VRDeck</th>\n",
       "      <th>Transported</th>\n",
       "      <th>cabin0</th>\n",
       "      <th>cabin_last</th>\n",
       "      <th>Total_spending</th>\n",
       "    </tr>\n",
       "  </thead>\n",
       "  <tbody>\n",
       "    <tr>\n",
       "      <th>0</th>\n",
       "      <td>0001_01</td>\n",
       "      <td>Europa</td>\n",
       "      <td>0</td>\n",
       "      <td>TRAPPIST-1e</td>\n",
       "      <td>39.0</td>\n",
       "      <td>False</td>\n",
       "      <td>0.0</td>\n",
       "      <td>0.0</td>\n",
       "      <td>0.0</td>\n",
       "      <td>0.0</td>\n",
       "      <td>0.0</td>\n",
       "      <td>False</td>\n",
       "      <td>B</td>\n",
       "      <td>P</td>\n",
       "      <td>0.0</td>\n",
       "    </tr>\n",
       "    <tr>\n",
       "      <th>1</th>\n",
       "      <td>0002_01</td>\n",
       "      <td>Earth</td>\n",
       "      <td>0</td>\n",
       "      <td>TRAPPIST-1e</td>\n",
       "      <td>24.0</td>\n",
       "      <td>False</td>\n",
       "      <td>109.0</td>\n",
       "      <td>9.0</td>\n",
       "      <td>25.0</td>\n",
       "      <td>549.0</td>\n",
       "      <td>44.0</td>\n",
       "      <td>True</td>\n",
       "      <td>F</td>\n",
       "      <td>S</td>\n",
       "      <td>736.0</td>\n",
       "    </tr>\n",
       "    <tr>\n",
       "      <th>2</th>\n",
       "      <td>0003_01</td>\n",
       "      <td>Europa</td>\n",
       "      <td>0</td>\n",
       "      <td>TRAPPIST-1e</td>\n",
       "      <td>58.0</td>\n",
       "      <td>True</td>\n",
       "      <td>43.0</td>\n",
       "      <td>3576.0</td>\n",
       "      <td>0.0</td>\n",
       "      <td>6715.0</td>\n",
       "      <td>49.0</td>\n",
       "      <td>False</td>\n",
       "      <td>A</td>\n",
       "      <td>S</td>\n",
       "      <td>10383.0</td>\n",
       "    </tr>\n",
       "    <tr>\n",
       "      <th>3</th>\n",
       "      <td>0003_02</td>\n",
       "      <td>Europa</td>\n",
       "      <td>0</td>\n",
       "      <td>TRAPPIST-1e</td>\n",
       "      <td>33.0</td>\n",
       "      <td>False</td>\n",
       "      <td>0.0</td>\n",
       "      <td>1283.0</td>\n",
       "      <td>371.0</td>\n",
       "      <td>3329.0</td>\n",
       "      <td>193.0</td>\n",
       "      <td>False</td>\n",
       "      <td>A</td>\n",
       "      <td>S</td>\n",
       "      <td>5176.0</td>\n",
       "    </tr>\n",
       "    <tr>\n",
       "      <th>4</th>\n",
       "      <td>0004_01</td>\n",
       "      <td>Earth</td>\n",
       "      <td>0</td>\n",
       "      <td>TRAPPIST-1e</td>\n",
       "      <td>16.0</td>\n",
       "      <td>False</td>\n",
       "      <td>303.0</td>\n",
       "      <td>70.0</td>\n",
       "      <td>151.0</td>\n",
       "      <td>565.0</td>\n",
       "      <td>2.0</td>\n",
       "      <td>True</td>\n",
       "      <td>F</td>\n",
       "      <td>S</td>\n",
       "      <td>1091.0</td>\n",
       "    </tr>\n",
       "  </tbody>\n",
       "</table>\n",
       "</div>"
      ],
      "text/plain": [
       "  PassengerId HomePlanet  CryoSleep  Destination   Age    VIP  RoomService  \\\n",
       "0     0001_01     Europa          0  TRAPPIST-1e  39.0  False          0.0   \n",
       "1     0002_01      Earth          0  TRAPPIST-1e  24.0  False        109.0   \n",
       "2     0003_01     Europa          0  TRAPPIST-1e  58.0   True         43.0   \n",
       "3     0003_02     Europa          0  TRAPPIST-1e  33.0  False          0.0   \n",
       "4     0004_01      Earth          0  TRAPPIST-1e  16.0  False        303.0   \n",
       "\n",
       "   FoodCourt  ShoppingMall     Spa  VRDeck  Transported cabin0 cabin_last  \\\n",
       "0        0.0           0.0     0.0     0.0        False      B          P   \n",
       "1        9.0          25.0   549.0    44.0         True      F          S   \n",
       "2     3576.0           0.0  6715.0    49.0        False      A          S   \n",
       "3     1283.0         371.0  3329.0   193.0        False      A          S   \n",
       "4       70.0         151.0   565.0     2.0         True      F          S   \n",
       "\n",
       "   Total_spending  \n",
       "0             0.0  \n",
       "1           736.0  \n",
       "2         10383.0  \n",
       "3          5176.0  \n",
       "4          1091.0  "
      ]
     },
     "execution_count": 67,
     "metadata": {},
     "output_type": "execute_result"
    }
   ],
   "source": [
    "train_df.head()"
   ]
  },
  {
   "cell_type": "code",
   "execution_count": 68,
   "id": "b66f3326",
   "metadata": {},
   "outputs": [
    {
     "data": {
      "text/html": [
       "<div>\n",
       "<style scoped>\n",
       "    .dataframe tbody tr th:only-of-type {\n",
       "        vertical-align: middle;\n",
       "    }\n",
       "\n",
       "    .dataframe tbody tr th {\n",
       "        vertical-align: top;\n",
       "    }\n",
       "\n",
       "    .dataframe thead th {\n",
       "        text-align: right;\n",
       "    }\n",
       "</style>\n",
       "<table border=\"1\" class=\"dataframe\">\n",
       "  <thead>\n",
       "    <tr style=\"text-align: right;\">\n",
       "      <th></th>\n",
       "      <th>PassengerId</th>\n",
       "      <th>HomePlanet</th>\n",
       "      <th>CryoSleep</th>\n",
       "      <th>Destination</th>\n",
       "      <th>Age</th>\n",
       "      <th>VIP</th>\n",
       "      <th>RoomService</th>\n",
       "      <th>FoodCourt</th>\n",
       "      <th>ShoppingMall</th>\n",
       "      <th>Spa</th>\n",
       "      <th>VRDeck</th>\n",
       "      <th>cabin0</th>\n",
       "      <th>cabin_last</th>\n",
       "      <th>Total_spending</th>\n",
       "    </tr>\n",
       "  </thead>\n",
       "  <tbody>\n",
       "    <tr>\n",
       "      <th>0</th>\n",
       "      <td>0013_01</td>\n",
       "      <td>Earth</td>\n",
       "      <td>True</td>\n",
       "      <td>TRAPPIST-1e</td>\n",
       "      <td>27.0</td>\n",
       "      <td>False</td>\n",
       "      <td>0.0</td>\n",
       "      <td>0.0</td>\n",
       "      <td>0.0</td>\n",
       "      <td>0.0</td>\n",
       "      <td>0.0</td>\n",
       "      <td>G</td>\n",
       "      <td>S</td>\n",
       "      <td>0.0</td>\n",
       "    </tr>\n",
       "    <tr>\n",
       "      <th>1</th>\n",
       "      <td>0018_01</td>\n",
       "      <td>Earth</td>\n",
       "      <td>False</td>\n",
       "      <td>TRAPPIST-1e</td>\n",
       "      <td>19.0</td>\n",
       "      <td>False</td>\n",
       "      <td>0.0</td>\n",
       "      <td>9.0</td>\n",
       "      <td>0.0</td>\n",
       "      <td>2823.0</td>\n",
       "      <td>0.0</td>\n",
       "      <td>F</td>\n",
       "      <td>S</td>\n",
       "      <td>2832.0</td>\n",
       "    </tr>\n",
       "    <tr>\n",
       "      <th>2</th>\n",
       "      <td>0019_01</td>\n",
       "      <td>Europa</td>\n",
       "      <td>True</td>\n",
       "      <td>55 Cancri e</td>\n",
       "      <td>31.0</td>\n",
       "      <td>False</td>\n",
       "      <td>0.0</td>\n",
       "      <td>0.0</td>\n",
       "      <td>0.0</td>\n",
       "      <td>0.0</td>\n",
       "      <td>0.0</td>\n",
       "      <td>C</td>\n",
       "      <td>S</td>\n",
       "      <td>0.0</td>\n",
       "    </tr>\n",
       "    <tr>\n",
       "      <th>3</th>\n",
       "      <td>0021_01</td>\n",
       "      <td>Europa</td>\n",
       "      <td>False</td>\n",
       "      <td>TRAPPIST-1e</td>\n",
       "      <td>38.0</td>\n",
       "      <td>False</td>\n",
       "      <td>0.0</td>\n",
       "      <td>6652.0</td>\n",
       "      <td>0.0</td>\n",
       "      <td>181.0</td>\n",
       "      <td>585.0</td>\n",
       "      <td>C</td>\n",
       "      <td>S</td>\n",
       "      <td>7418.0</td>\n",
       "    </tr>\n",
       "    <tr>\n",
       "      <th>4</th>\n",
       "      <td>0023_01</td>\n",
       "      <td>Earth</td>\n",
       "      <td>False</td>\n",
       "      <td>TRAPPIST-1e</td>\n",
       "      <td>20.0</td>\n",
       "      <td>False</td>\n",
       "      <td>10.0</td>\n",
       "      <td>0.0</td>\n",
       "      <td>635.0</td>\n",
       "      <td>0.0</td>\n",
       "      <td>0.0</td>\n",
       "      <td>F</td>\n",
       "      <td>S</td>\n",
       "      <td>645.0</td>\n",
       "    </tr>\n",
       "  </tbody>\n",
       "</table>\n",
       "</div>"
      ],
      "text/plain": [
       "  PassengerId HomePlanet CryoSleep  Destination   Age    VIP  RoomService  \\\n",
       "0     0013_01      Earth      True  TRAPPIST-1e  27.0  False          0.0   \n",
       "1     0018_01      Earth     False  TRAPPIST-1e  19.0  False          0.0   \n",
       "2     0019_01     Europa      True  55 Cancri e  31.0  False          0.0   \n",
       "3     0021_01     Europa     False  TRAPPIST-1e  38.0  False          0.0   \n",
       "4     0023_01      Earth     False  TRAPPIST-1e  20.0  False         10.0   \n",
       "\n",
       "   FoodCourt  ShoppingMall     Spa  VRDeck cabin0 cabin_last  Total_spending  \n",
       "0        0.0           0.0     0.0     0.0      G          S             0.0  \n",
       "1        9.0           0.0  2823.0     0.0      F          S          2832.0  \n",
       "2        0.0           0.0     0.0     0.0      C          S             0.0  \n",
       "3     6652.0           0.0   181.0   585.0      C          S          7418.0  \n",
       "4        0.0         635.0     0.0     0.0      F          S           645.0  "
      ]
     },
     "execution_count": 68,
     "metadata": {},
     "output_type": "execute_result"
    }
   ],
   "source": [
    "test_df.head()"
   ]
  },
  {
   "cell_type": "code",
   "execution_count": 69,
   "id": "7de038dd",
   "metadata": {},
   "outputs": [
    {
     "name": "stdout",
     "output_type": "stream",
     "text": [
      "<class 'pandas.core.frame.DataFrame'>\n",
      "RangeIndex: 8693 entries, 0 to 8692\n",
      "Data columns (total 15 columns):\n",
      " #   Column          Non-Null Count  Dtype  \n",
      "---  ------          --------------  -----  \n",
      " 0   PassengerId     8693 non-null   object \n",
      " 1   HomePlanet      8693 non-null   object \n",
      " 2   CryoSleep       8693 non-null   int64  \n",
      " 3   Destination     8693 non-null   object \n",
      " 4   Age             8693 non-null   float64\n",
      " 5   VIP             8693 non-null   bool   \n",
      " 6   RoomService     8693 non-null   float64\n",
      " 7   FoodCourt       8693 non-null   float64\n",
      " 8   ShoppingMall    8693 non-null   float64\n",
      " 9   Spa             8693 non-null   float64\n",
      " 10  VRDeck          8693 non-null   float64\n",
      " 11  Transported     8693 non-null   bool   \n",
      " 12  cabin0          8693 non-null   object \n",
      " 13  cabin_last      8693 non-null   object \n",
      " 14  Total_spending  8693 non-null   float64\n",
      "dtypes: bool(2), float64(7), int64(1), object(5)\n",
      "memory usage: 900.0+ KB\n"
     ]
    }
   ],
   "source": [
    "train_df.info()"
   ]
  },
  {
   "cell_type": "code",
   "execution_count": 70,
   "id": "7f81a7bb",
   "metadata": {},
   "outputs": [
    {
     "name": "stdout",
     "output_type": "stream",
     "text": [
      "<class 'pandas.core.frame.DataFrame'>\n",
      "RangeIndex: 4277 entries, 0 to 4276\n",
      "Data columns (total 14 columns):\n",
      " #   Column          Non-Null Count  Dtype  \n",
      "---  ------          --------------  -----  \n",
      " 0   PassengerId     4277 non-null   object \n",
      " 1   HomePlanet      4277 non-null   object \n",
      " 2   CryoSleep       4277 non-null   object \n",
      " 3   Destination     4277 non-null   object \n",
      " 4   Age             4277 non-null   float64\n",
      " 5   VIP             4277 non-null   bool   \n",
      " 6   RoomService     4277 non-null   float64\n",
      " 7   FoodCourt       4277 non-null   float64\n",
      " 8   ShoppingMall    4277 non-null   float64\n",
      " 9   Spa             4277 non-null   float64\n",
      " 10  VRDeck          4277 non-null   float64\n",
      " 11  cabin0          4277 non-null   object \n",
      " 12  cabin_last      4277 non-null   object \n",
      " 13  Total_spending  4277 non-null   float64\n",
      "dtypes: bool(1), float64(7), object(6)\n",
      "memory usage: 438.7+ KB\n"
     ]
    }
   ],
   "source": [
    "test_df.info()"
   ]
  },
  {
   "cell_type": "code",
   "execution_count": 71,
   "id": "6cfaec21",
   "metadata": {},
   "outputs": [],
   "source": [
    "cat_cols = ['HomePlanet','CryoSleep','Destination','VIP','cabin0','cabin_last']\n",
    "cont_cols = ['Age','RoomService', 'FoodCourt', 'ShoppingMall', 'Spa', 'VRDeck','Total_spending']\n",
    "y_col = ['Transported']"
   ]
  },
  {
   "cell_type": "code",
   "execution_count": 72,
   "id": "6db0618a",
   "metadata": {},
   "outputs": [],
   "source": [
    "for col in cat_cols:\n",
    "    train_df[col] = train_df[col].astype('category')\n",
    "    test_df[col] = test_df[col].astype('category')"
   ]
  },
  {
   "cell_type": "code",
   "execution_count": 73,
   "id": "0ce611bb",
   "metadata": {},
   "outputs": [
    {
     "name": "stdout",
     "output_type": "stream",
     "text": [
      "<class 'pandas.core.frame.DataFrame'>\n",
      "RangeIndex: 8693 entries, 0 to 8692\n",
      "Data columns (total 15 columns):\n",
      " #   Column          Non-Null Count  Dtype   \n",
      "---  ------          --------------  -----   \n",
      " 0   PassengerId     8693 non-null   object  \n",
      " 1   HomePlanet      8693 non-null   category\n",
      " 2   CryoSleep       8693 non-null   category\n",
      " 3   Destination     8693 non-null   category\n",
      " 4   Age             8693 non-null   float64 \n",
      " 5   VIP             8693 non-null   category\n",
      " 6   RoomService     8693 non-null   float64 \n",
      " 7   FoodCourt       8693 non-null   float64 \n",
      " 8   ShoppingMall    8693 non-null   float64 \n",
      " 9   Spa             8693 non-null   float64 \n",
      " 10  VRDeck          8693 non-null   float64 \n",
      " 11  Transported     8693 non-null   bool    \n",
      " 12  cabin0          8693 non-null   category\n",
      " 13  cabin_last      8693 non-null   category\n",
      " 14  Total_spending  8693 non-null   float64 \n",
      "dtypes: bool(1), category(6), float64(7), object(1)\n",
      "memory usage: 603.8+ KB\n"
     ]
    }
   ],
   "source": [
    "train_df.info()"
   ]
  },
  {
   "cell_type": "code",
   "execution_count": 74,
   "id": "207b0c0c",
   "metadata": {},
   "outputs": [
    {
     "name": "stdout",
     "output_type": "stream",
     "text": [
      "<class 'pandas.core.frame.DataFrame'>\n",
      "RangeIndex: 4277 entries, 0 to 4276\n",
      "Data columns (total 14 columns):\n",
      " #   Column          Non-Null Count  Dtype   \n",
      "---  ------          --------------  -----   \n",
      " 0   PassengerId     4277 non-null   object  \n",
      " 1   HomePlanet      4277 non-null   category\n",
      " 2   CryoSleep       4277 non-null   category\n",
      " 3   Destination     4277 non-null   category\n",
      " 4   Age             4277 non-null   float64 \n",
      " 5   VIP             4277 non-null   category\n",
      " 6   RoomService     4277 non-null   float64 \n",
      " 7   FoodCourt       4277 non-null   float64 \n",
      " 8   ShoppingMall    4277 non-null   float64 \n",
      " 9   Spa             4277 non-null   float64 \n",
      " 10  VRDeck          4277 non-null   float64 \n",
      " 11  cabin0          4277 non-null   category\n",
      " 12  cabin_last      4277 non-null   category\n",
      " 13  Total_spending  4277 non-null   float64 \n",
      "dtypes: category(6), float64(7), object(1)\n",
      "memory usage: 293.4+ KB\n"
     ]
    }
   ],
   "source": [
    "test_df.info()"
   ]
  },
  {
   "cell_type": "code",
   "execution_count": 75,
   "id": "e4d53f8f",
   "metadata": {},
   "outputs": [],
   "source": [
    "cat_train = np.stack([train_df[col].cat.codes for col in cat_cols],axis=1)\n",
    "cat_test = np.stack([test_df[col].cat.codes for col in cat_cols],axis=1)"
   ]
  },
  {
   "cell_type": "code",
   "execution_count": 76,
   "id": "eb756cd9",
   "metadata": {},
   "outputs": [],
   "source": [
    "cat_train = torch.LongTensor(cat_train).to(device)\n",
    "cat_test = torch.LongTensor(cat_test).to(device)"
   ]
  },
  {
   "cell_type": "code",
   "execution_count": 77,
   "id": "6456289b",
   "metadata": {},
   "outputs": [],
   "source": [
    "cont_train = np.stack([train_df[col].values for col in cont_cols],axis=1)\n",
    "cont_test = np.stack([test_df[col].values for col in cont_cols],axis=1)"
   ]
  },
  {
   "cell_type": "code",
   "execution_count": 78,
   "id": "406bf0d7",
   "metadata": {},
   "outputs": [],
   "source": [
    "cont_train = torch.Tensor(cont_train).to(device)\n",
    "cont_test = torch.Tensor(cont_test).to(device)"
   ]
  },
  {
   "cell_type": "code",
   "execution_count": 79,
   "id": "aa1fefb9",
   "metadata": {},
   "outputs": [],
   "source": [
    "y_train = torch.tensor(train_df[y_col].values).to(device)"
   ]
  },
  {
   "cell_type": "code",
   "execution_count": 80,
   "id": "36f8f63a",
   "metadata": {},
   "outputs": [
    {
     "data": {
      "text/plain": [
       "[(3, 2), (2, 1), (3, 2), (2, 1), (9, 5), (3, 2)]"
      ]
     },
     "execution_count": 80,
     "metadata": {},
     "output_type": "execute_result"
    }
   ],
   "source": [
    "cat_szs = [len(train_df[col].cat.categories) for col in cat_cols]\n",
    "emb_szs = [(size,min(50,(size+1)//2)) for size in cat_szs]\n",
    "emb_szs"
   ]
  },
  {
   "cell_type": "code",
   "execution_count": 81,
   "id": "f83522d6",
   "metadata": {},
   "outputs": [],
   "source": [
    "#model\n",
    "class Model(nn.Module):\n",
    "    \n",
    "    def __init__(self,emb_szs,n_cont,out_sz,layers,p):\n",
    "        super().__init__()\n",
    "        self.embeds = nn.ModuleList([nn.Embedding(ni,nf) for ni,nf in emb_szs])\n",
    "        self.emb_drop = nn.Dropout(p)\n",
    "        n_emb = sum((nf for ni,nf in emb_szs))\n",
    "        \n",
    "        self.bn_cont = nn.BatchNorm1d(n_cont)\n",
    "        n_in = n_cont + n_emb\n",
    "        \n",
    "        layerlist = []\n",
    "        for i in layers:\n",
    "            layerlist.append(nn.Linear(n_in,i))\n",
    "            layerlist.append(nn.ReLU(inplace=True))\n",
    "            layerlist.append(nn.BatchNorm1d(i))\n",
    "            layerlist.append(nn.Dropout(p))\n",
    "            n_in = i\n",
    "        layerlist.append(nn.Linear(layers[-1],out_sz))\n",
    "        self.layers = nn.Sequential(*layerlist)\n",
    "    \n",
    "    def forward(self,x_cat,x_cont):\n",
    "        embeddings = []\n",
    "        for i,e in enumerate(self.embeds):\n",
    "            embeddings.append(e(x_cat[:,i]))\n",
    "        x = torch.cat(embeddings, 1)\n",
    "        x = self.emb_drop(x)\n",
    "        \n",
    "        x_cont = self.bn_cont(x_cont)\n",
    "        x = torch.cat([x,x_cont],1)\n",
    "        x = self.layers(x)\n",
    "        return x"
   ]
  },
  {
   "cell_type": "code",
   "execution_count": 82,
   "id": "a818c3ab",
   "metadata": {},
   "outputs": [],
   "source": [
    "model = Model(emb_szs,cont_train.shape[1],2,[32,16,8,4],p=0.4).to(device)"
   ]
  },
  {
   "cell_type": "code",
   "execution_count": 83,
   "id": "23b760d6",
   "metadata": {},
   "outputs": [
    {
     "data": {
      "text/plain": [
       "Model(\n",
       "  (embeds): ModuleList(\n",
       "    (0): Embedding(3, 2)\n",
       "    (1): Embedding(2, 1)\n",
       "    (2): Embedding(3, 2)\n",
       "    (3): Embedding(2, 1)\n",
       "    (4): Embedding(9, 5)\n",
       "    (5): Embedding(3, 2)\n",
       "  )\n",
       "  (emb_drop): Dropout(p=0.4, inplace=False)\n",
       "  (bn_cont): BatchNorm1d(7, eps=1e-05, momentum=0.1, affine=True, track_running_stats=True)\n",
       "  (layers): Sequential(\n",
       "    (0): Linear(in_features=20, out_features=32, bias=True)\n",
       "    (1): ReLU(inplace=True)\n",
       "    (2): BatchNorm1d(32, eps=1e-05, momentum=0.1, affine=True, track_running_stats=True)\n",
       "    (3): Dropout(p=0.4, inplace=False)\n",
       "    (4): Linear(in_features=32, out_features=16, bias=True)\n",
       "    (5): ReLU(inplace=True)\n",
       "    (6): BatchNorm1d(16, eps=1e-05, momentum=0.1, affine=True, track_running_stats=True)\n",
       "    (7): Dropout(p=0.4, inplace=False)\n",
       "    (8): Linear(in_features=16, out_features=8, bias=True)\n",
       "    (9): ReLU(inplace=True)\n",
       "    (10): BatchNorm1d(8, eps=1e-05, momentum=0.1, affine=True, track_running_stats=True)\n",
       "    (11): Dropout(p=0.4, inplace=False)\n",
       "    (12): Linear(in_features=8, out_features=4, bias=True)\n",
       "    (13): ReLU(inplace=True)\n",
       "    (14): BatchNorm1d(4, eps=1e-05, momentum=0.1, affine=True, track_running_stats=True)\n",
       "    (15): Dropout(p=0.4, inplace=False)\n",
       "    (16): Linear(in_features=4, out_features=2, bias=True)\n",
       "  )\n",
       ")"
      ]
     },
     "execution_count": 83,
     "metadata": {},
     "output_type": "execute_result"
    }
   ],
   "source": [
    "model"
   ]
  },
  {
   "cell_type": "code",
   "execution_count": 84,
   "id": "858d270e",
   "metadata": {},
   "outputs": [],
   "source": [
    "criterion = nn.CrossEntropyLoss()\n",
    "optimizer = torch.optim.Adam(model.parameters(),lr=0.001)\n",
    "num_epochs = 7000"
   ]
  },
  {
   "cell_type": "code",
   "execution_count": 85,
   "id": "6622dc69",
   "metadata": {},
   "outputs": [
    {
     "name": "stdout",
     "output_type": "stream",
     "text": [
      "epoch : 500/7000 loss : 0.47946038842201233\n",
      "epoch : 1000/7000 loss : 0.45941483974456787\n",
      "epoch : 1500/7000 loss : 0.4548773765563965\n",
      "epoch : 2000/7000 loss : 0.450687974691391\n",
      "epoch : 2500/7000 loss : 0.45322492718696594\n",
      "epoch : 3000/7000 loss : 0.44931304454803467\n",
      "epoch : 3500/7000 loss : 0.44517675042152405\n",
      "epoch : 4000/7000 loss : 0.448539674282074\n",
      "epoch : 4500/7000 loss : 0.4485524594783783\n",
      "epoch : 5000/7000 loss : 0.44637736678123474\n",
      "epoch : 5500/7000 loss : 0.43965134024620056\n",
      "epoch : 6000/7000 loss : 0.44617313146591187\n",
      "epoch : 6500/7000 loss : 0.44736823439598083\n",
      "epoch : 7000/7000 loss : 0.44629737734794617\n"
     ]
    }
   ],
   "source": [
    "losses = []\n",
    "for epoch in range(num_epochs):\n",
    "    y_pred = model.forward(cat_train,cont_train)\n",
    "    loss = criterion(y_pred,y_train.squeeze())\n",
    "    losses.append(loss.item())\n",
    "    if (epoch+1)%500 == 0:\n",
    "        print(f\"epoch : {epoch+1}/{num_epochs} loss : {loss.item()}\")\n",
    "    optimizer.zero_grad()\n",
    "    loss.backward()\n",
    "    optimizer.step()"
   ]
  },
  {
   "cell_type": "code",
   "execution_count": 86,
   "id": "eb93744d",
   "metadata": {},
   "outputs": [],
   "source": [
    "with torch.no_grad():\n",
    "    y_eval = model.forward(cat_test,cont_test)"
   ]
  },
  {
   "cell_type": "code",
   "execution_count": 87,
   "id": "47d63556",
   "metadata": {},
   "outputs": [],
   "source": [
    "prediction=torch.argmax(y_eval,axis=1).cpu().numpy()"
   ]
  },
  {
   "cell_type": "code",
   "execution_count": 88,
   "id": "1799fdf4",
   "metadata": {},
   "outputs": [],
   "source": [
    "def pred_to_csv(prediction,model_name):\n",
    "    new_test_df = pd.read_csv(\"test.csv\")\n",
    "    pred_df = pd.DataFrame(prediction,columns=[\"Transported\"])\n",
    "    pred_df = pd.concat([pred_df,new_test_df['PassengerId']],axis=1)\n",
    "    pred_df[\"Transported\"] = pred_df[\"Transported\"].replace({1:True,0:False})\n",
    "    pred_df.set_index(\"PassengerId\",inplace=True)\n",
    "    pred_df.to_csv(\"spaceship_\"+str(model_name)+\".csv\")"
   ]
  },
  {
   "cell_type": "code",
   "execution_count": 90,
   "id": "0b402550",
   "metadata": {},
   "outputs": [],
   "source": [
    "pred_to_csv(prediction,\"PyTorch12\")"
   ]
  }
 ],
 "metadata": {
  "kernelspec": {
   "display_name": "Python 3 (ipykernel)",
   "language": "python",
   "name": "python3"
  },
  "language_info": {
   "codemirror_mode": {
    "name": "ipython",
    "version": 3
   },
   "file_extension": ".py",
   "mimetype": "text/x-python",
   "name": "python",
   "nbconvert_exporter": "python",
   "pygments_lexer": "ipython3",
   "version": "3.11.5"
  }
 },
 "nbformat": 4,
 "nbformat_minor": 5
}
